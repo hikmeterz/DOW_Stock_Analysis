{
 "cells": [
  {
   "cell_type": "markdown",
   "metadata": {},
   "source": [
    "Strateji1"
   ]
  },
  {
   "cell_type": "code",
   "execution_count": 15,
   "metadata": {},
   "outputs": [
    {
     "name": "stdout",
     "output_type": "stream",
     "text": [
      "Year\tInitial Investment \tYillik getiri (%)\t Std Dev (%)\tAvg Max Drawdown (%)\tSharpe Ratio\n"
     ]
    },
    {
     "name": "stderr",
     "output_type": "stream",
     "text": [
      "DOW: Data doesn't exist for startDate = 1420088400, endDate = 1451538000\n"
     ]
    },
    {
     "name": "stdout",
     "output_type": "stream",
     "text": [
      "2015\t$1000.00\t\t\t22.82\t\t\t21.09\t\t\t-18.84\t\t\t6.49\n"
     ]
    },
    {
     "name": "stderr",
     "output_type": "stream",
     "text": [
      "DOW: Data doesn't exist for startDate = 1451624400, endDate = 1483160400\n"
     ]
    },
    {
     "name": "stdout",
     "output_type": "stream",
     "text": [
      "2016\t$1000.00\t\t\t22.82\t\t\t21.09\t\t\t-15.06\t\t\t15.35\n"
     ]
    },
    {
     "name": "stderr",
     "output_type": "stream",
     "text": [
      "DOW: Data doesn't exist for startDate = 1483246800, endDate = 1514696400\n"
     ]
    },
    {
     "name": "stdout",
     "output_type": "stream",
     "text": [
      "2017\t$1000.00\t\t\t22.82\t\t\t21.09\t\t\t-10.63\t\t\t19.57\n"
     ]
    },
    {
     "name": "stderr",
     "output_type": "stream",
     "text": [
      "DOW: Data doesn't exist for startDate = 1514782800, endDate = 1546232400\n"
     ]
    },
    {
     "name": "stdout",
     "output_type": "stream",
     "text": [
      "2018\t$1000.00\t\t\t22.82\t\t\t21.09\t\t\t-22.44\t\t\t1.24\n",
      "2019\t$1000.00\t\t\t22.82\t\t\t21.09\t\t\t-15.45\t\t\t25.15\n",
      "2020\t$1000.00\t\t\t22.82\t\t\t21.09\t\t\t-37.38\t\t\t6.58\n",
      "2021\t$1000.00\t\t\t22.82\t\t\t21.09\t\t\t-16.40\t\t\t17.17\n"
     ]
    }
   ],
   "source": [
    "import yfinance as yf\n",
    "import numpy as np\n",
    "\n",
    "symbols = ['AAPL', 'MSFT', 'GOOGL',  'JPM', 'V', 'PG', 'JNJ', 'HD', 'DIS', 'UNH', 'KO', 'VZ', 'MCD', 'INTC', 'NKE', 'MRK', 'WMT', 'CRM', 'IBM', 'TRV', 'CSCO', 'AXP', 'CVX', 'BA', 'GS', 'CAT', 'DOW', 'AMGN', 'WBA', 'HON']\n",
    "risk_free_rate = 0.0\n",
    "initial_investment = 1000\n",
    "\n",
    "years = [2015, 2016, 2017, 2018, 2019, 2020, 2021]\n",
    "print(\"Year\\tInitial Investment \\tYillik getiri (%)\\t Std Dev (%)\\tAvg Max Drawdown (%)\\tSharpe Ratio\")\n",
    "for year in years:\n",
    "    annual_returns = []\n",
    "    max_drawdowns = []\n",
    "\n",
    "    for symbol in symbols:\n",
    "        stock = yf.Ticker(symbol)\n",
    "        history = stock.history(start=f'{year}-01-01', end=f'{year}-12-31')\n",
    "\n",
    "        if len(history) > 0:\n",
    "            prices = history['Close']\n",
    "            initial_price = prices.iloc[0]\n",
    "            final_price = prices.iloc[-1]\n",
    "            annual_return = ((final_price / initial_price) - 1) * 100\n",
    "            annual_returns.append(annual_return)\n",
    "\n",
    "            drawdowns = (prices / prices.cummax() - 1) * 100\n",
    "            max_drawdown = drawdowns.min()\n",
    "            max_drawdowns.append(max_drawdown)\n",
    "\n",
    "    avg_annual_return = np.mean(annual_returns)\n",
    "    std_dev_annual_return = np.std(annual_returns)\n",
    "    avg_max_drawdown = np.mean(max_drawdowns)\n",
    "    \n",
    "    excess_returns = np.array(annual_returns) - risk_free_rate / 252\n",
    "    sharpe_ratio = (np.mean(excess_returns) / np.std(excess_returns)) * np.sqrt(252)\n",
    "\n",
    "    print(f\"{year}\\t${initial_investment:.2f}\\t\\t\\t{np.mean(returns):.2f}\\t\\t\\t{annual_std_dev:.2f}\\t\\t\\t{avg_max_drawdown:.2f}\\t\\t\\t{sharpe_ratio:.2f}\")\n",
    "\n"
   ]
  },
  {
   "cell_type": "markdown",
   "metadata": {},
   "source": [
    "Strateji 2"
   ]
  },
  {
   "cell_type": "code",
   "execution_count": 17,
   "metadata": {},
   "outputs": [
    {
     "name": "stdout",
     "output_type": "stream",
     "text": [
      "Year\tInitial Investment \tYillik getiri (%)\t Std Dev (%)\tAvg Max Drawdown (%)\tSharpe Ratio\n"
     ]
    },
    {
     "name": "stderr",
     "output_type": "stream",
     "text": [
      "DOW: Data doesn't exist for startDate = 1388552400, endDate = 1420002000\n"
     ]
    },
    {
     "name": "stdout",
     "output_type": "stream",
     "text": [
      "2015\t\t$1000.00\t\t\t-0.87\t\t\t\t0.00\t\t\t\t-28.31\t\t\t\t0.00\n"
     ]
    },
    {
     "name": "stderr",
     "output_type": "stream",
     "text": [
      "DOW: Data doesn't exist for startDate = 1420088400, endDate = 1451538000\n"
     ]
    },
    {
     "name": "stdout",
     "output_type": "stream",
     "text": [
      "2016\t\t$1000.00\t\t\t4.35\t\t\t\t0.00\t\t\t\t-13.53\t\t\t\t0.00\n"
     ]
    },
    {
     "name": "stderr",
     "output_type": "stream",
     "text": [
      "DOW: Data doesn't exist for startDate = 1451624400, endDate = 1483160400\n"
     ]
    },
    {
     "name": "stdout",
     "output_type": "stream",
     "text": [
      "2017\t\t$1000.00\t\t\t72.71\t\t\t\t0.00\t\t\t\t-7.71\t\t\t\t0.00\n"
     ]
    },
    {
     "name": "stderr",
     "output_type": "stream",
     "text": [
      "DOW: Data doesn't exist for startDate = 1483246800, endDate = 1514696400\n"
     ]
    },
    {
     "name": "stdout",
     "output_type": "stream",
     "text": [
      "2018\t\t$1000.00\t\t\t8.67\t\t\t\t0.00\t\t\t\t-24.67\t\t\t\t0.00\n"
     ]
    },
    {
     "name": "stderr",
     "output_type": "stream",
     "text": [
      "DOW: Data doesn't exist for startDate = 1514782800, endDate = 1546232400\n"
     ]
    },
    {
     "name": "stdout",
     "output_type": "stream",
     "text": [
      "2019\t\t$1000.00\t\t\t23.71\t\t\t\t0.00\t\t\t\t-12.14\t\t\t\t0.00\n",
      "2020\t\t$1000.00\t\t\t79.62\t\t\t\t0.00\t\t\t\t-31.43\t\t\t\t0.00\n",
      "2021\t\t$1000.00\t\t\t38.55\t\t\t\t0.00\t\t\t\t-18.60\t\t\t\t0.00\n"
     ]
    }
   ],
   "source": [
    "import yfinance as yf\n",
    "import numpy as np\n",
    "\n",
    "symbols = ['AAPL', 'MSFT', 'GOOGL', 'JPM', 'V', 'PG', 'JNJ', 'HD', 'DIS', 'UNH', 'KO', 'VZ', 'MCD', 'INTC', 'NKE', 'MRK', 'WMT', 'CRM', 'IBM', 'TRV', 'CSCO', 'AXP', 'CVX', 'BA', 'GS', 'CAT', 'DOW', 'AMGN', 'WBA', 'HON']\n",
    "risk_free_rate = 0.0\n",
    "initial_investment = 1000\n",
    "\n",
    "years = [2015, 2016, 2017, 2018, 2019, 2020, 2021]\n",
    "\n",
    "print(\"Year\\tInitial Investment \\tYillik getiri (%)\\t Std Dev (%)\\tAvg Max Drawdown (%)\\tSharpe Ratio\")\n",
    "for year in years:\n",
    "    annual_returns = []\n",
    "    max_drawdowns = []\n",
    "\n",
    "    best_stock = None\n",
    "    best_return = -999999  # Başlangıçta en düşük olası değer\n",
    "\n",
    "    for symbol in symbols:\n",
    "        stock = yf.Ticker(symbol)\n",
    "        history = stock.history(start=f'{year-1}-01-01', end=f'{year-1}-12-31')\n",
    "\n",
    "        if len(history) > 0:\n",
    "            prices = history['Close']\n",
    "            initial_price = prices.iloc[0]\n",
    "            final_price = prices.iloc[-1]\n",
    "            annual_return = ((final_price / initial_price) - 1) * 100\n",
    "\n",
    "            if annual_return > best_return:\n",
    "                best_return = annual_return\n",
    "                best_stock = symbol\n",
    "\n",
    "    if best_stock:\n",
    "        stock = yf.Ticker(best_stock)\n",
    "        history = stock.history(start=f'{year}-01-01', end=f'{year}-12-31')\n",
    "\n",
    "        if len(history) > 0:\n",
    "            prices = history['Close']\n",
    "            initial_price = prices.iloc[0]\n",
    "            final_price = prices.iloc[-1]\n",
    "            annual_return = ((final_price / initial_price) - 1) * 100\n",
    "\n",
    "            annual_returns.append(annual_return)\n",
    "\n",
    "            drawdowns = (prices / prices.cummax() - 1) * 100\n",
    "            max_drawdown = drawdowns.min()\n",
    "            max_drawdowns.append(max_drawdown)\n",
    "\n",
    "            avg_annual_return = np.mean(annual_returns)\n",
    "            std_dev_annual_return = np.std(annual_returns)\n",
    "            avg_max_drawdown = np.mean(max_drawdowns)\n",
    "\n",
    "            excess_returns = np.array(annual_returns) - risk_free_rate / 252\n",
    "            if np.std(excess_returns) != 0:\n",
    "                sharpe_ratio = (np.mean(excess_returns) / np.std(excess_returns)) * np.sqrt(252)\n",
    "            else:\n",
    "                sharpe_ratio = 0 \n",
    "\n",
    "            print(f\"{year}\\t\\t${initial_investment:.2f}\\t\\t\\t{avg_annual_return:.2f}\\t\\t\\t\\t{std_dev_annual_return:.2f}\\t\\t\\t\\t{avg_max_drawdown:.2f}\\t\\t\\t\\t{sharpe_ratio:.2f}\")\n"
   ]
  },
  {
   "cell_type": "markdown",
   "metadata": {},
   "source": [
    "Strateji 3"
   ]
  },
  {
   "cell_type": "code",
   "execution_count": 19,
   "metadata": {},
   "outputs": [
    {
     "name": "stdout",
     "output_type": "stream",
     "text": [
      "Year\tInitial Investment \tYillik getiri (%)\t Std Dev (%)\tAvg Max Drawdown (%)\tSharpe Ratio\n"
     ]
    },
    {
     "name": "stderr",
     "output_type": "stream",
     "text": [
      "DOW: Data doesn't exist for startDate = 1388552400, endDate = 1420002000\n"
     ]
    },
    {
     "name": "stdout",
     "output_type": "stream",
     "text": [
      "2015\t\t$1000.00\t\t\t-11.21\t\t\t\t0.00\t\t\t\t-22.96\t\t\t\t0.00\n"
     ]
    },
    {
     "name": "stderr",
     "output_type": "stream",
     "text": [
      "DOW: Data doesn't exist for startDate = 1420088400, endDate = 1451538000\n"
     ]
    },
    {
     "name": "stdout",
     "output_type": "stream",
     "text": [
      "2016\t\t$1000.00\t\t\t15.73\t\t\t\t0.00\t\t\t\t-9.30\t\t\t\t0.00\n"
     ]
    },
    {
     "name": "stderr",
     "output_type": "stream",
     "text": [
      "DOW: Data doesn't exist for startDate = 1451624400, endDate = 1483160400\n"
     ]
    },
    {
     "name": "stdout",
     "output_type": "stream",
     "text": [
      "2017\t\t$1000.00\t\t\t21.94\t\t\t\t0.00\t\t\t\t-15.19\t\t\t\t0.00\n"
     ]
    },
    {
     "name": "stderr",
     "output_type": "stream",
     "text": [
      "DOW: Data doesn't exist for startDate = 1483246800, endDate = 1514696400\n"
     ]
    },
    {
     "name": "stdout",
     "output_type": "stream",
     "text": [
      "2018\t\t$1000.00\t\t\t-7.03\t\t\t\t0.00\t\t\t\t-24.73\t\t\t\t0.00\n"
     ]
    },
    {
     "name": "stderr",
     "output_type": "stream",
     "text": [
      "DOW: Data doesn't exist for startDate = 1514782800, endDate = 1546232400\n"
     ]
    },
    {
     "name": "stdout",
     "output_type": "stream",
     "text": [
      "2019\t\t$1000.00\t\t\t36.34\t\t\t\t0.00\t\t\t\t-11.97\t\t\t\t0.00\n",
      "2020\t\t$1000.00\t\t\t-30.47\t\t\t\t0.00\t\t\t\t-41.95\t\t\t\t0.00\n",
      "2021\t\t$1000.00\t\t\t-0.00\t\t\t\t0.00\t\t\t\t-30.09\t\t\t\t0.00\n"
     ]
    }
   ],
   "source": [
    "import yfinance as yf\n",
    "import numpy as np\n",
    "\n",
    "symbols = ['AAPL', 'MSFT', 'GOOGL', 'JPM', 'V', 'PG', 'JNJ', 'HD', 'DIS', 'UNH', 'KO', 'VZ', 'MCD', 'INTC', 'NKE', 'MRK', 'WMT', 'CRM', 'IBM', 'TRV', 'CSCO', 'AXP', 'CVX', 'BA', 'GS', 'CAT', 'DOW', 'AMGN', 'WBA', 'HON']\n",
    "risk_free_rate = 0.0\n",
    "initial_investment = 1000\n",
    "\n",
    "years = [2015, 2016, 2017, 2018, 2019, 2020, 2021]\n",
    "\n",
    "print(\"Year\\tInitial Investment \\tYillik getiri (%)\\t Std Dev (%)\\tAvg Max Drawdown (%)\\tSharpe Ratio\")\n",
    "for year in years:\n",
    "    annual_returns = []\n",
    "    max_drawdowns = []\n",
    "\n",
    "    worst_stock = None\n",
    "    worst_return = float('inf')  # Başlangıçta en yüksek olası değer\n",
    "\n",
    "    for symbol in symbols:\n",
    "        stock = yf.Ticker(symbol)\n",
    "        history = stock.history(start=f'{year-1}-01-01', end=f'{year-1}-12-31')\n",
    "\n",
    "        if len(history) > 0:\n",
    "            prices = history['Close']\n",
    "            initial_price = prices.iloc[0]\n",
    "            final_price = prices.iloc[-1]\n",
    "            annual_return = ((final_price / initial_price) - 1) * 100\n",
    "\n",
    "            if annual_return < worst_return:\n",
    "                worst_return = annual_return\n",
    "                worst_stock = symbol\n",
    "\n",
    "    if worst_stock:\n",
    "        stock = yf.Ticker(worst_stock)\n",
    "        history = stock.history(start=f'{year}-01-01', end=f'{year}-12-31')\n",
    "\n",
    "        if len(history) > 0:\n",
    "            prices = history['Close']\n",
    "            initial_price = prices.iloc[0]\n",
    "            final_price = prices.iloc[-1]\n",
    "            annual_return = ((final_price / initial_price) - 1) * 100\n",
    "\n",
    "            annual_returns.append(annual_return)\n",
    "\n",
    "            drawdowns = (prices / prices.cummax() - 1) * 100\n",
    "            max_drawdown = drawdowns.min()\n",
    "            max_drawdowns.append(max_drawdown)\n",
    "\n",
    "            avg_annual_return = np.mean(annual_returns)\n",
    "            std_dev_annual_return = np.std(annual_returns)\n",
    "            avg_max_drawdown = np.mean(max_drawdowns)\n",
    "\n",
    "            excess_returns = np.array(annual_returns) - risk_free_rate / 252\n",
    "            if np.std(excess_returns) != 0:\n",
    "                sharpe_ratio = (np.mean(excess_returns) / np.std(excess_returns)) * np.sqrt(252)\n",
    "            else:\n",
    "                sharpe_ratio = 0 \n",
    "\n",
    "            print(f\"{year}\\t\\t${initial_investment:.2f}\\t\\t\\t{avg_annual_return:.2f}\\t\\t\\t\\t{std_dev_annual_return:.2f}\\t\\t\\t\\t{avg_max_drawdown:.2f}\\t\\t\\t\\t{sharpe_ratio:.2f}\")\n"
   ]
  },
  {
   "cell_type": "markdown",
   "metadata": {},
   "source": [
    "Strateji 4"
   ]
  },
  {
   "cell_type": "code",
   "execution_count": 23,
   "metadata": {},
   "outputs": [
    {
     "name": "stdout",
     "output_type": "stream",
     "text": [
      "Year\tInitial Investment \tYillik getiri (%)\t Std Dev (%)\tAvg Max Drawdown (%)\tSharpe Ratio\n"
     ]
    },
    {
     "name": "stderr",
     "output_type": "stream",
     "text": [
      "DOW: Data doesn't exist for startDate = 1388552400, endDate = 1420002000\n",
      "c:\\Users\\HP\\AppData\\Local\\Programs\\Python\\Python38\\lib\\site-packages\\numpy\\core\\fromnumeric.py:3432: RuntimeWarning: Mean of empty slice.\n",
      "  return _methods._mean(a, axis=axis, dtype=dtype,\n",
      "c:\\Users\\HP\\AppData\\Local\\Programs\\Python\\Python38\\lib\\site-packages\\numpy\\core\\_methods.py:190: RuntimeWarning: invalid value encountered in double_scalars\n",
      "  ret = ret.dtype.type(ret / rcount)\n",
      "c:\\Users\\HP\\AppData\\Local\\Programs\\Python\\Python38\\lib\\site-packages\\numpy\\core\\_methods.py:265: RuntimeWarning: Degrees of freedom <= 0 for slice\n",
      "  ret = _var(a, axis=axis, dtype=dtype, out=out, ddof=ddof,\n",
      "c:\\Users\\HP\\AppData\\Local\\Programs\\Python\\Python38\\lib\\site-packages\\numpy\\core\\_methods.py:223: RuntimeWarning: invalid value encountered in divide\n",
      "  arrmean = um.true_divide(arrmean, div, out=arrmean, casting='unsafe',\n",
      "c:\\Users\\HP\\AppData\\Local\\Programs\\Python\\Python38\\lib\\site-packages\\numpy\\core\\_methods.py:257: RuntimeWarning: invalid value encountered in double_scalars\n",
      "  ret = ret.dtype.type(ret / rcount)\n"
     ]
    },
    {
     "name": "stdout",
     "output_type": "stream",
     "text": [
      "2015\t$1000.00\t\t\t1.05\t\t\tnan\t\t\t-24.97\t\t\tnan\n"
     ]
    },
    {
     "name": "stderr",
     "output_type": "stream",
     "text": [
      "DOW: Data doesn't exist for startDate = 1420088400, endDate = 1451538000\n",
      "c:\\Users\\HP\\AppData\\Local\\Programs\\Python\\Python38\\lib\\site-packages\\numpy\\core\\fromnumeric.py:3432: RuntimeWarning: Mean of empty slice.\n",
      "  return _methods._mean(a, axis=axis, dtype=dtype,\n",
      "c:\\Users\\HP\\AppData\\Local\\Programs\\Python\\Python38\\lib\\site-packages\\numpy\\core\\_methods.py:190: RuntimeWarning: invalid value encountered in double_scalars\n",
      "  ret = ret.dtype.type(ret / rcount)\n",
      "c:\\Users\\HP\\AppData\\Local\\Programs\\Python\\Python38\\lib\\site-packages\\numpy\\core\\_methods.py:265: RuntimeWarning: Degrees of freedom <= 0 for slice\n",
      "  ret = _var(a, axis=axis, dtype=dtype, out=out, ddof=ddof,\n",
      "c:\\Users\\HP\\AppData\\Local\\Programs\\Python\\Python38\\lib\\site-packages\\numpy\\core\\_methods.py:223: RuntimeWarning: invalid value encountered in divide\n",
      "  arrmean = um.true_divide(arrmean, div, out=arrmean, casting='unsafe',\n",
      "c:\\Users\\HP\\AppData\\Local\\Programs\\Python\\Python38\\lib\\site-packages\\numpy\\core\\_methods.py:257: RuntimeWarning: invalid value encountered in double_scalars\n",
      "  ret = ret.dtype.type(ret / rcount)\n"
     ]
    },
    {
     "name": "stdout",
     "output_type": "stream",
     "text": [
      "2016\t$1000.00\t\t\t-7.60\t\t\tnan\t\t\t-22.16\t\t\tnan\n"
     ]
    },
    {
     "name": "stderr",
     "output_type": "stream",
     "text": [
      "DOW: Data doesn't exist for startDate = 1451624400, endDate = 1483160400\n",
      "c:\\Users\\HP\\AppData\\Local\\Programs\\Python\\Python38\\lib\\site-packages\\numpy\\core\\fromnumeric.py:3432: RuntimeWarning: Mean of empty slice.\n",
      "  return _methods._mean(a, axis=axis, dtype=dtype,\n",
      "c:\\Users\\HP\\AppData\\Local\\Programs\\Python\\Python38\\lib\\site-packages\\numpy\\core\\_methods.py:190: RuntimeWarning: invalid value encountered in double_scalars\n",
      "  ret = ret.dtype.type(ret / rcount)\n",
      "c:\\Users\\HP\\AppData\\Local\\Programs\\Python\\Python38\\lib\\site-packages\\numpy\\core\\_methods.py:265: RuntimeWarning: Degrees of freedom <= 0 for slice\n",
      "  ret = _var(a, axis=axis, dtype=dtype, out=out, ddof=ddof,\n",
      "c:\\Users\\HP\\AppData\\Local\\Programs\\Python\\Python38\\lib\\site-packages\\numpy\\core\\_methods.py:223: RuntimeWarning: invalid value encountered in divide\n",
      "  arrmean = um.true_divide(arrmean, div, out=arrmean, casting='unsafe',\n",
      "c:\\Users\\HP\\AppData\\Local\\Programs\\Python\\Python38\\lib\\site-packages\\numpy\\core\\_methods.py:257: RuntimeWarning: invalid value encountered in double_scalars\n",
      "  ret = ret.dtype.type(ret / rcount)\n"
     ]
    },
    {
     "name": "stdout",
     "output_type": "stream",
     "text": [
      "2017\t$1000.00\t\t\t45.57\t\t\tnan\t\t\t-8.10\t\t\tnan\n"
     ]
    },
    {
     "name": "stderr",
     "output_type": "stream",
     "text": [
      "DOW: Data doesn't exist for startDate = 1483246800, endDate = 1514696400\n",
      "c:\\Users\\HP\\AppData\\Local\\Programs\\Python\\Python38\\lib\\site-packages\\numpy\\core\\fromnumeric.py:3432: RuntimeWarning: Mean of empty slice.\n",
      "  return _methods._mean(a, axis=axis, dtype=dtype,\n",
      "c:\\Users\\HP\\AppData\\Local\\Programs\\Python\\Python38\\lib\\site-packages\\numpy\\core\\_methods.py:190: RuntimeWarning: invalid value encountered in double_scalars\n",
      "  ret = ret.dtype.type(ret / rcount)\n",
      "c:\\Users\\HP\\AppData\\Local\\Programs\\Python\\Python38\\lib\\site-packages\\numpy\\core\\_methods.py:265: RuntimeWarning: Degrees of freedom <= 0 for slice\n",
      "  ret = _var(a, axis=axis, dtype=dtype, out=out, ddof=ddof,\n",
      "c:\\Users\\HP\\AppData\\Local\\Programs\\Python\\Python38\\lib\\site-packages\\numpy\\core\\_methods.py:223: RuntimeWarning: invalid value encountered in divide\n",
      "  arrmean = um.true_divide(arrmean, div, out=arrmean, casting='unsafe',\n",
      "c:\\Users\\HP\\AppData\\Local\\Programs\\Python\\Python38\\lib\\site-packages\\numpy\\core\\_methods.py:257: RuntimeWarning: invalid value encountered in double_scalars\n",
      "  ret = ret.dtype.type(ret / rcount)\n"
     ]
    },
    {
     "name": "stdout",
     "output_type": "stream",
     "text": [
      "2018\t$1000.00\t\t\t-5.83\t\t\tnan\t\t\t-31.43\t\t\tnan\n"
     ]
    },
    {
     "name": "stderr",
     "output_type": "stream",
     "text": [
      "DOW: Data doesn't exist for startDate = 1514782800, endDate = 1546232400\n",
      "c:\\Users\\HP\\AppData\\Local\\Programs\\Python\\Python38\\lib\\site-packages\\numpy\\core\\fromnumeric.py:3432: RuntimeWarning: Mean of empty slice.\n",
      "  return _methods._mean(a, axis=axis, dtype=dtype,\n",
      "c:\\Users\\HP\\AppData\\Local\\Programs\\Python\\Python38\\lib\\site-packages\\numpy\\core\\_methods.py:190: RuntimeWarning: invalid value encountered in double_scalars\n",
      "  ret = ret.dtype.type(ret / rcount)\n",
      "c:\\Users\\HP\\AppData\\Local\\Programs\\Python\\Python38\\lib\\site-packages\\numpy\\core\\_methods.py:265: RuntimeWarning: Degrees of freedom <= 0 for slice\n",
      "  ret = _var(a, axis=axis, dtype=dtype, out=out, ddof=ddof,\n",
      "c:\\Users\\HP\\AppData\\Local\\Programs\\Python\\Python38\\lib\\site-packages\\numpy\\core\\_methods.py:223: RuntimeWarning: invalid value encountered in divide\n",
      "  arrmean = um.true_divide(arrmean, div, out=arrmean, casting='unsafe',\n",
      "c:\\Users\\HP\\AppData\\Local\\Programs\\Python\\Python38\\lib\\site-packages\\numpy\\core\\_methods.py:257: RuntimeWarning: invalid value encountered in double_scalars\n",
      "  ret = ret.dtype.type(ret / rcount)\n"
     ]
    },
    {
     "name": "stdout",
     "output_type": "stream",
     "text": [
      "2019\t$1000.00\t\t\t33.90\t\t\tnan\t\t\t-12.12\t\t\tnan\n"
     ]
    },
    {
     "name": "stderr",
     "output_type": "stream",
     "text": [
      "c:\\Users\\HP\\AppData\\Local\\Programs\\Python\\Python38\\lib\\site-packages\\numpy\\core\\fromnumeric.py:3432: RuntimeWarning: Mean of empty slice.\n",
      "  return _methods._mean(a, axis=axis, dtype=dtype,\n",
      "c:\\Users\\HP\\AppData\\Local\\Programs\\Python\\Python38\\lib\\site-packages\\numpy\\core\\_methods.py:190: RuntimeWarning: invalid value encountered in double_scalars\n",
      "  ret = ret.dtype.type(ret / rcount)\n",
      "c:\\Users\\HP\\AppData\\Local\\Programs\\Python\\Python38\\lib\\site-packages\\numpy\\core\\_methods.py:265: RuntimeWarning: Degrees of freedom <= 0 for slice\n",
      "  ret = _var(a, axis=axis, dtype=dtype, out=out, ddof=ddof,\n",
      "c:\\Users\\HP\\AppData\\Local\\Programs\\Python\\Python38\\lib\\site-packages\\numpy\\core\\_methods.py:223: RuntimeWarning: invalid value encountered in divide\n",
      "  arrmean = um.true_divide(arrmean, div, out=arrmean, casting='unsafe',\n",
      "c:\\Users\\HP\\AppData\\Local\\Programs\\Python\\Python38\\lib\\site-packages\\numpy\\core\\_methods.py:257: RuntimeWarning: invalid value encountered in double_scalars\n",
      "  ret = ret.dtype.type(ret / rcount)\n"
     ]
    },
    {
     "name": "stdout",
     "output_type": "stream",
     "text": [
      "2020\t$1000.00\t\t\t37.06\t\t\tnan\t\t\t-34.36\t\t\tnan\n",
      "2021\t$1000.00\t\t\t38.73\t\t\tnan\t\t\t-14.56\t\t\tnan\n"
     ]
    },
    {
     "name": "stderr",
     "output_type": "stream",
     "text": [
      "c:\\Users\\HP\\AppData\\Local\\Programs\\Python\\Python38\\lib\\site-packages\\numpy\\core\\fromnumeric.py:3432: RuntimeWarning: Mean of empty slice.\n",
      "  return _methods._mean(a, axis=axis, dtype=dtype,\n",
      "c:\\Users\\HP\\AppData\\Local\\Programs\\Python\\Python38\\lib\\site-packages\\numpy\\core\\_methods.py:190: RuntimeWarning: invalid value encountered in double_scalars\n",
      "  ret = ret.dtype.type(ret / rcount)\n",
      "c:\\Users\\HP\\AppData\\Local\\Programs\\Python\\Python38\\lib\\site-packages\\numpy\\core\\_methods.py:265: RuntimeWarning: Degrees of freedom <= 0 for slice\n",
      "  ret = _var(a, axis=axis, dtype=dtype, out=out, ddof=ddof,\n",
      "c:\\Users\\HP\\AppData\\Local\\Programs\\Python\\Python38\\lib\\site-packages\\numpy\\core\\_methods.py:223: RuntimeWarning: invalid value encountered in divide\n",
      "  arrmean = um.true_divide(arrmean, div, out=arrmean, casting='unsafe',\n",
      "c:\\Users\\HP\\AppData\\Local\\Programs\\Python\\Python38\\lib\\site-packages\\numpy\\core\\_methods.py:257: RuntimeWarning: invalid value encountered in double_scalars\n",
      "  ret = ret.dtype.type(ret / rcount)\n"
     ]
    }
   ],
   "source": [
    "import yfinance as yf\n",
    "import numpy as np\n",
    "\n",
    "symbols = ['AAPL', 'MSFT', 'GOOGL', 'JPM', 'V', 'PG', 'JNJ', 'HD', 'DIS', 'UNH', 'KO', 'VZ', 'MCD', 'INTC', 'NKE', 'MRK', 'WMT', 'CRM', 'IBM', 'TRV', 'CSCO', 'AXP', 'CVX', 'BA', 'GS', 'CAT', 'DOW', 'AMGN', 'WBA', 'HON']\n",
    "risk_free_rate = 0.0\n",
    "initial_investment = 1000\n",
    "\n",
    "years = [2015, 2016, 2017, 2018, 2019, 2020, 2021]\n",
    "print(\"Year\\tInitial Investment \\tYillik getiri (%)\\t Std Dev (%)\\tAvg Max Drawdown (%)\\tSharpe Ratio\")\n",
    "for year in years:\n",
    "    annual_returns = []\n",
    "    max_drawdowns = []\n",
    "\n",
    "    # En iyi getiri sağlayan 3 hisseyi al\n",
    "    top_stocks = []\n",
    "    stock_returns = []\n",
    "\n",
    "    for symbol in symbols:\n",
    "        stock = yf.Ticker(symbol)\n",
    "        history = stock.history(start=f'{year-1}-01-01', end=f'{year-1}-12-31')\n",
    "\n",
    "        if len(history) > 0:\n",
    "            start_price = history['Close'][0]\n",
    "            end_price = history['Close'][-1]\n",
    "            annual_return = ((end_price / start_price) - 1) * 100\n",
    "            stock_returns.append((symbol, annual_return))\n",
    "\n",
    "    stock_returns.sort(key=lambda x: x[1], reverse=True)\n",
    "    top_stocks = stock_returns[:3]  # İlk 3 en iyi getiri sağlayan hisseyi seç\n",
    "\n",
    "    # Portföyün getirilerini hesapla\n",
    "    portfolio_return = 0\n",
    "    for symbol, _ in top_stocks:\n",
    "        stock = yf.Ticker(symbol)\n",
    "        history = stock.history(start=f'{year}-01-01', end=f'{year}-12-31')\n",
    "\n",
    "        if len(history) > 0:\n",
    "            prices = history['Close']\n",
    "            initial_price = prices.iloc[0]\n",
    "            final_price = prices.iloc[-1]\n",
    "            annual_return = ((final_price / initial_price) - 1) * 100\n",
    "            portfolio_return += annual_return / 3  # Eşit ağırlıklı portföy olduğu için paylaştır\n",
    "\n",
    "            drawdowns = (prices / prices.cummax() - 1) * 100\n",
    "            max_drawdown = drawdowns.min()\n",
    "            max_drawdowns.append(max_drawdown)\n",
    "\n",
    "    avg_annual_return = np.mean(annual_returns)\n",
    "    std_dev_annual_return = np.std(annual_returns)\n",
    "    avg_max_drawdown = np.mean(max_drawdowns)\n",
    "    \n",
    "    excess_returns = np.array(annual_returns) - risk_free_rate / 252\n",
    "    if np.std(excess_returns) != 0:\n",
    "        sharpe_ratio = (np.mean(excess_returns) / np.std(excess_returns)) * np.sqrt(252)\n",
    "    else:\n",
    "        sharpe_ratio = 0 \n",
    "\n",
    "    print(f\"{year}\\t${initial_investment:.2f}\\t\\t\\t{portfolio_return:.2f}\\t\\t\\t{std_dev_annual_return:.2f}\\t\\t\\t{avg_max_drawdown:.2f}\\t\\t\\t{sharpe_ratio:.2f}\")\n"
   ]
  },
  {
   "cell_type": "markdown",
   "metadata": {},
   "source": [
    "Strateji 5"
   ]
  },
  {
   "cell_type": "code",
   "execution_count": 24,
   "metadata": {},
   "outputs": [
    {
     "name": "stdout",
     "output_type": "stream",
     "text": [
      "Year\tInitial Investment \tAvg Annual Return (%)\t Std Dev (%)\tAvg Max Drawdown (%)\tSharpe Ratio\tWorst Stocks\n"
     ]
    },
    {
     "name": "stderr",
     "output_type": "stream",
     "text": [
      "DOW: Data doesn't exist for startDate = 1420088400, endDate = 1451538000\n",
      "DOW: Data doesn't exist for startDate = 1388552400, endDate = 1420002000\n"
     ]
    },
    {
     "name": "stdout",
     "output_type": "stream",
     "text": [
      "2015\t$1000.00\t\t\t7.50\t\t\t18.35\t\t\t-18.84\t\t\t6.49\t\t\tIBM: -11.64%, CVX: -5.64%, GOOGL: -3.92%\n"
     ]
    },
    {
     "name": "stderr",
     "output_type": "stream",
     "text": [
      "DOW: Data doesn't exist for startDate = 1451624400, endDate = 1483160400\n",
      "DOW: Data doesn't exist for startDate = 1420088400, endDate = 1451538000\n"
     ]
    },
    {
     "name": "stdout",
     "output_type": "stream",
     "text": [
      "2016\t$1000.00\t\t\t14.13\t\t\t14.62\t\t\t-15.06\t\t\t15.35\t\t\tWMT: -26.20%, AXP: -23.53%, CAT: -22.44%\n"
     ]
    },
    {
     "name": "stderr",
     "output_type": "stream",
     "text": [
      "DOW: Data doesn't exist for startDate = 1483246800, endDate = 1514696400\n",
      "DOW: Data doesn't exist for startDate = 1451624400, endDate = 1483160400\n"
     ]
    },
    {
     "name": "stdout",
     "output_type": "stream",
     "text": [
      "2017\t$1000.00\t\t\t28.03\t\t\t22.74\t\t\t-10.63\t\t\t19.57\t\t\tNKE: -16.39%, CRM: -10.75%, AMGN: -5.23%\n"
     ]
    },
    {
     "name": "stderr",
     "output_type": "stream",
     "text": [
      "DOW: Data doesn't exist for startDate = 1514782800, endDate = 1546232400\n",
      "DOW: Data doesn't exist for startDate = 1483246800, endDate = 1514696400\n"
     ]
    },
    {
     "name": "stdout",
     "output_type": "stream",
     "text": [
      "2018\t$1000.00\t\t\t1.17\t\t\t15.03\t\t\t-22.44\t\t\t1.24\t\t\tWBA: -10.73%, IBM: -4.68%, MRK: -3.58%\n"
     ]
    },
    {
     "name": "stderr",
     "output_type": "stream",
     "text": [
      "DOW: Data doesn't exist for startDate = 1514782800, endDate = 1546232400\n"
     ]
    },
    {
     "name": "stdout",
     "output_type": "stream",
     "text": [
      "2019\t$1000.00\t\t\t27.32\t\t\t17.24\t\t\t-15.45\t\t\t25.15\t\t\tGS: -35.36%, IBM: -23.41%, CAT: -18.23%\n",
      "2020\t$1000.00\t\t\t9.49\t\t\t22.90\t\t\t-37.38\t\t\t6.58\t\t\tWBA: -10.69%, BA: 3.12%, CVX: 12.67%\n",
      "2021\t$1000.00\t\t\t22.82\t\t\t21.09\t\t\t-16.40\t\t\t17.17\t\t\tBA: -34.61%, WBA: -30.47%, CVX: -25.75%\n"
     ]
    }
   ],
   "source": [
    "import yfinance as yf\n",
    "import numpy as np\n",
    "\n",
    "symbols = ['AAPL', 'MSFT', 'GOOGL',  'JPM', 'V', 'PG', 'JNJ', 'HD', 'DIS', 'UNH', 'KO', 'VZ', 'MCD', 'INTC', 'NKE', 'MRK', 'WMT', 'CRM', 'IBM', 'TRV', 'CSCO', 'AXP', 'CVX', 'BA', 'GS', 'CAT', 'DOW', 'AMGN', 'WBA', 'HON']\n",
    "risk_free_rate = 0.0\n",
    "initial_investment = 1000\n",
    "\n",
    "years = [2015, 2016, 2017, 2018, 2019, 2020, 2021]\n",
    "num_stocks = 3\n",
    "\n",
    "print(\"Year\\tInitial Investment \\tAvg Annual Return (%)\\t Std Dev (%)\\tAvg Max Drawdown (%)\\tSharpe Ratio\\tWorst Stocks\")\n",
    "for year in years:\n",
    "    annual_returns = []\n",
    "    max_drawdowns = []\n",
    "\n",
    "    for symbol in symbols:\n",
    "        stock = yf.Ticker(symbol)\n",
    "        history = stock.history(start=f'{year}-01-01', end=f'{year}-12-31')\n",
    "\n",
    "        if len(history) > 0:\n",
    "            prices = history['Close']\n",
    "            initial_price = prices.iloc[0]\n",
    "            final_price = prices.iloc[-1]\n",
    "            annual_return = ((final_price / initial_price) - 1) * 100\n",
    "            annual_returns.append(annual_return)\n",
    "\n",
    "            drawdowns = (prices / prices.cummax() - 1) * 100\n",
    "            max_drawdown = drawdowns.min()\n",
    "            max_drawdowns.append(max_drawdown)\n",
    "\n",
    "    avg_annual_return = np.mean(annual_returns)\n",
    "    std_dev_annual_return = np.std(annual_returns)\n",
    "    avg_max_drawdown = np.mean(max_drawdowns)\n",
    "    \n",
    "    excess_returns = np.array(annual_returns) - risk_free_rate / 252\n",
    "    sharpe_ratio = (np.mean(excess_returns) / np.std(excess_returns)) * np.sqrt(252)\n",
    "    \n",
    "    worst_stocks = []\n",
    "    stock_returns = []\n",
    "\n",
    "    for symbol in symbols:\n",
    "        stock = yf.Ticker(symbol)\n",
    "        history = stock.history(start=f'{year-1}-01-01', end=f'{year-1}-12-31')\n",
    "\n",
    "        if len(history) > 0:\n",
    "            start_price = history['Close'][0]\n",
    "            end_price = history['Close'][-1]\n",
    "            annual_return = (end_price - start_price) / start_price * 100\n",
    "            \n",
    "            stock_returns.append((symbol, annual_return))\n",
    "\n",
    "    stock_returns.sort(key=lambda x: x[1])\n",
    "    worst_stocks = stock_returns[:num_stocks]\n",
    "    \n",
    "    if len(worst_stocks) == num_stocks:\n",
    "        worst_stocks_str = ', '.join([f\"{stock}: {return_percent:.2f}%\" for stock, return_percent in worst_stocks])\n",
    "        print(f\"{year}\\t${initial_investment:.2f}\\t\\t\\t{avg_annual_return:.2f}\\t\\t\\t{std_dev_annual_return:.2f}\\t\\t\\t{avg_max_drawdown:.2f}\\t\\t\\t{sharpe_ratio:.2f}\\t\\t\\t{worst_stocks_str}\")\n",
    "    else:\n",
    "        print(f\"{year}\\t${initial_investment:.2f}\\t\\t\\tData not available\")\n"
   ]
  },
  {
   "cell_type": "markdown",
   "metadata": {},
   "source": [
    "Strateji 6"
   ]
  },
  {
   "cell_type": "code",
   "execution_count": 30,
   "metadata": {},
   "outputs": [
    {
     "name": "stdout",
     "output_type": "stream",
     "text": [
      "Year\tInitial Investment \tYillik getiri (%)\t Std Dev (%)\tAvg Max Drawdown (%)\tSharpe Ratio\n"
     ]
    },
    {
     "name": "stderr",
     "output_type": "stream",
     "text": [
      "DOW: Data doesn't exist for startDate = 1388552400, endDate = 1420002000\n",
      "c:\\Users\\HP\\AppData\\Local\\Programs\\Python\\Python38\\lib\\site-packages\\numpy\\core\\fromnumeric.py:3432: RuntimeWarning: Mean of empty slice.\n",
      "  return _methods._mean(a, axis=axis, dtype=dtype,\n",
      "c:\\Users\\HP\\AppData\\Local\\Programs\\Python\\Python38\\lib\\site-packages\\numpy\\core\\_methods.py:190: RuntimeWarning: invalid value encountered in double_scalars\n",
      "  ret = ret.dtype.type(ret / rcount)\n",
      "c:\\Users\\HP\\AppData\\Local\\Programs\\Python\\Python38\\lib\\site-packages\\numpy\\core\\_methods.py:265: RuntimeWarning: Degrees of freedom <= 0 for slice\n",
      "  ret = _var(a, axis=axis, dtype=dtype, out=out, ddof=ddof,\n",
      "c:\\Users\\HP\\AppData\\Local\\Programs\\Python\\Python38\\lib\\site-packages\\numpy\\core\\_methods.py:223: RuntimeWarning: invalid value encountered in divide\n",
      "  arrmean = um.true_divide(arrmean, div, out=arrmean, casting='unsafe',\n",
      "c:\\Users\\HP\\AppData\\Local\\Programs\\Python\\Python38\\lib\\site-packages\\numpy\\core\\_methods.py:257: RuntimeWarning: invalid value encountered in double_scalars\n",
      "  ret = ret.dtype.type(ret / rcount)\n"
     ]
    },
    {
     "name": "stdout",
     "output_type": "stream",
     "text": [
      "2015\t$1000.00\t\t\t7.73\t\t\tnan\t\t\t-20.99\t\t\tnan\n"
     ]
    },
    {
     "name": "stderr",
     "output_type": "stream",
     "text": [
      "DOW: Data doesn't exist for startDate = 1420088400, endDate = 1451538000\n",
      "c:\\Users\\HP\\AppData\\Local\\Programs\\Python\\Python38\\lib\\site-packages\\numpy\\core\\fromnumeric.py:3432: RuntimeWarning: Mean of empty slice.\n",
      "  return _methods._mean(a, axis=axis, dtype=dtype,\n",
      "c:\\Users\\HP\\AppData\\Local\\Programs\\Python\\Python38\\lib\\site-packages\\numpy\\core\\_methods.py:190: RuntimeWarning: invalid value encountered in double_scalars\n",
      "  ret = ret.dtype.type(ret / rcount)\n",
      "c:\\Users\\HP\\AppData\\Local\\Programs\\Python\\Python38\\lib\\site-packages\\numpy\\core\\_methods.py:265: RuntimeWarning: Degrees of freedom <= 0 for slice\n",
      "  ret = _var(a, axis=axis, dtype=dtype, out=out, ddof=ddof,\n",
      "c:\\Users\\HP\\AppData\\Local\\Programs\\Python\\Python38\\lib\\site-packages\\numpy\\core\\_methods.py:223: RuntimeWarning: invalid value encountered in divide\n",
      "  arrmean = um.true_divide(arrmean, div, out=arrmean, casting='unsafe',\n",
      "c:\\Users\\HP\\AppData\\Local\\Programs\\Python\\Python38\\lib\\site-packages\\numpy\\core\\_methods.py:257: RuntimeWarning: invalid value encountered in double_scalars\n",
      "  ret = ret.dtype.type(ret / rcount)\n"
     ]
    },
    {
     "name": "stdout",
     "output_type": "stream",
     "text": [
      "2016\t$1000.00\t\t\t-2.32\t\t\tnan\t\t\t-19.17\t\t\tnan\n"
     ]
    },
    {
     "name": "stderr",
     "output_type": "stream",
     "text": [
      "DOW: Data doesn't exist for startDate = 1451624400, endDate = 1483160400\n",
      "c:\\Users\\HP\\AppData\\Local\\Programs\\Python\\Python38\\lib\\site-packages\\numpy\\core\\fromnumeric.py:3432: RuntimeWarning: Mean of empty slice.\n",
      "  return _methods._mean(a, axis=axis, dtype=dtype,\n",
      "c:\\Users\\HP\\AppData\\Local\\Programs\\Python\\Python38\\lib\\site-packages\\numpy\\core\\_methods.py:190: RuntimeWarning: invalid value encountered in double_scalars\n",
      "  ret = ret.dtype.type(ret / rcount)\n",
      "c:\\Users\\HP\\AppData\\Local\\Programs\\Python\\Python38\\lib\\site-packages\\numpy\\core\\_methods.py:265: RuntimeWarning: Degrees of freedom <= 0 for slice\n",
      "  ret = _var(a, axis=axis, dtype=dtype, out=out, ddof=ddof,\n",
      "c:\\Users\\HP\\AppData\\Local\\Programs\\Python\\Python38\\lib\\site-packages\\numpy\\core\\_methods.py:223: RuntimeWarning: invalid value encountered in divide\n",
      "  arrmean = um.true_divide(arrmean, div, out=arrmean, casting='unsafe',\n",
      "c:\\Users\\HP\\AppData\\Local\\Programs\\Python\\Python38\\lib\\site-packages\\numpy\\core\\_methods.py:257: RuntimeWarning: invalid value encountered in double_scalars\n",
      "  ret = ret.dtype.type(ret / rcount)\n"
     ]
    },
    {
     "name": "stdout",
     "output_type": "stream",
     "text": [
      "2017\t$1000.00\t\t\t30.79\t\t\tnan\t\t\t-10.26\t\t\tnan\n"
     ]
    },
    {
     "name": "stderr",
     "output_type": "stream",
     "text": [
      "DOW: Data doesn't exist for startDate = 1483246800, endDate = 1514696400\n",
      "c:\\Users\\HP\\AppData\\Local\\Programs\\Python\\Python38\\lib\\site-packages\\numpy\\core\\fromnumeric.py:3432: RuntimeWarning: Mean of empty slice.\n",
      "  return _methods._mean(a, axis=axis, dtype=dtype,\n",
      "c:\\Users\\HP\\AppData\\Local\\Programs\\Python\\Python38\\lib\\site-packages\\numpy\\core\\_methods.py:190: RuntimeWarning: invalid value encountered in double_scalars\n",
      "  ret = ret.dtype.type(ret / rcount)\n",
      "c:\\Users\\HP\\AppData\\Local\\Programs\\Python\\Python38\\lib\\site-packages\\numpy\\core\\_methods.py:265: RuntimeWarning: Degrees of freedom <= 0 for slice\n",
      "  ret = _var(a, axis=axis, dtype=dtype, out=out, ddof=ddof,\n",
      "c:\\Users\\HP\\AppData\\Local\\Programs\\Python\\Python38\\lib\\site-packages\\numpy\\core\\_methods.py:223: RuntimeWarning: invalid value encountered in divide\n",
      "  arrmean = um.true_divide(arrmean, div, out=arrmean, casting='unsafe',\n",
      "c:\\Users\\HP\\AppData\\Local\\Programs\\Python\\Python38\\lib\\site-packages\\numpy\\core\\_methods.py:257: RuntimeWarning: invalid value encountered in double_scalars\n",
      "  ret = ret.dtype.type(ret / rcount)\n"
     ]
    },
    {
     "name": "stdout",
     "output_type": "stream",
     "text": [
      "2018\t$1000.00\t\t\t-3.58\t\t\tnan\t\t\t-26.90\t\t\tnan\n"
     ]
    },
    {
     "name": "stderr",
     "output_type": "stream",
     "text": [
      "DOW: Data doesn't exist for startDate = 1514782800, endDate = 1546232400\n",
      "c:\\Users\\HP\\AppData\\Local\\Programs\\Python\\Python38\\lib\\site-packages\\numpy\\core\\fromnumeric.py:3432: RuntimeWarning: Mean of empty slice.\n",
      "  return _methods._mean(a, axis=axis, dtype=dtype,\n",
      "c:\\Users\\HP\\AppData\\Local\\Programs\\Python\\Python38\\lib\\site-packages\\numpy\\core\\_methods.py:190: RuntimeWarning: invalid value encountered in double_scalars\n",
      "  ret = ret.dtype.type(ret / rcount)\n",
      "c:\\Users\\HP\\AppData\\Local\\Programs\\Python\\Python38\\lib\\site-packages\\numpy\\core\\_methods.py:265: RuntimeWarning: Degrees of freedom <= 0 for slice\n",
      "  ret = _var(a, axis=axis, dtype=dtype, out=out, ddof=ddof,\n",
      "c:\\Users\\HP\\AppData\\Local\\Programs\\Python\\Python38\\lib\\site-packages\\numpy\\core\\_methods.py:223: RuntimeWarning: invalid value encountered in divide\n",
      "  arrmean = um.true_divide(arrmean, div, out=arrmean, casting='unsafe',\n",
      "c:\\Users\\HP\\AppData\\Local\\Programs\\Python\\Python38\\lib\\site-packages\\numpy\\core\\_methods.py:257: RuntimeWarning: invalid value encountered in double_scalars\n",
      "  ret = ret.dtype.type(ret / rcount)\n"
     ]
    },
    {
     "name": "stdout",
     "output_type": "stream",
     "text": [
      "2019\t$1000.00\t\t\t36.29\t\t\tnan\t\t\t-11.64\t\t\tnan\n"
     ]
    },
    {
     "name": "stderr",
     "output_type": "stream",
     "text": [
      "c:\\Users\\HP\\AppData\\Local\\Programs\\Python\\Python38\\lib\\site-packages\\numpy\\core\\fromnumeric.py:3432: RuntimeWarning: Mean of empty slice.\n",
      "  return _methods._mean(a, axis=axis, dtype=dtype,\n",
      "c:\\Users\\HP\\AppData\\Local\\Programs\\Python\\Python38\\lib\\site-packages\\numpy\\core\\_methods.py:190: RuntimeWarning: invalid value encountered in double_scalars\n",
      "  ret = ret.dtype.type(ret / rcount)\n",
      "c:\\Users\\HP\\AppData\\Local\\Programs\\Python\\Python38\\lib\\site-packages\\numpy\\core\\_methods.py:265: RuntimeWarning: Degrees of freedom <= 0 for slice\n",
      "  ret = _var(a, axis=axis, dtype=dtype, out=out, ddof=ddof,\n",
      "c:\\Users\\HP\\AppData\\Local\\Programs\\Python\\Python38\\lib\\site-packages\\numpy\\core\\_methods.py:223: RuntimeWarning: invalid value encountered in divide\n",
      "  arrmean = um.true_divide(arrmean, div, out=arrmean, casting='unsafe',\n",
      "c:\\Users\\HP\\AppData\\Local\\Programs\\Python\\Python38\\lib\\site-packages\\numpy\\core\\_methods.py:257: RuntimeWarning: invalid value encountered in double_scalars\n",
      "  ret = ret.dtype.type(ret / rcount)\n"
     ]
    },
    {
     "name": "stdout",
     "output_type": "stream",
     "text": [
      "2020\t$1000.00\t\t\t28.11\t\t\tnan\t\t\t-32.52\t\t\tnan\n",
      "2021\t$1000.00\t\t\t40.29\t\t\tnan\t\t\t-14.40\t\t\tnan\n"
     ]
    },
    {
     "name": "stderr",
     "output_type": "stream",
     "text": [
      "c:\\Users\\HP\\AppData\\Local\\Programs\\Python\\Python38\\lib\\site-packages\\numpy\\core\\fromnumeric.py:3432: RuntimeWarning: Mean of empty slice.\n",
      "  return _methods._mean(a, axis=axis, dtype=dtype,\n",
      "c:\\Users\\HP\\AppData\\Local\\Programs\\Python\\Python38\\lib\\site-packages\\numpy\\core\\_methods.py:190: RuntimeWarning: invalid value encountered in double_scalars\n",
      "  ret = ret.dtype.type(ret / rcount)\n",
      "c:\\Users\\HP\\AppData\\Local\\Programs\\Python\\Python38\\lib\\site-packages\\numpy\\core\\_methods.py:265: RuntimeWarning: Degrees of freedom <= 0 for slice\n",
      "  ret = _var(a, axis=axis, dtype=dtype, out=out, ddof=ddof,\n",
      "c:\\Users\\HP\\AppData\\Local\\Programs\\Python\\Python38\\lib\\site-packages\\numpy\\core\\_methods.py:223: RuntimeWarning: invalid value encountered in divide\n",
      "  arrmean = um.true_divide(arrmean, div, out=arrmean, casting='unsafe',\n",
      "c:\\Users\\HP\\AppData\\Local\\Programs\\Python\\Python38\\lib\\site-packages\\numpy\\core\\_methods.py:257: RuntimeWarning: invalid value encountered in double_scalars\n",
      "  ret = ret.dtype.type(ret / rcount)\n"
     ]
    }
   ],
   "source": [
    "import yfinance as yf\n",
    "import numpy as np\n",
    "\n",
    "symbols = ['AAPL', 'MSFT', 'GOOGL', 'JPM', 'V', 'PG', 'JNJ', 'HD', 'DIS', 'UNH', 'KO', 'VZ', 'MCD', 'INTC', 'NKE', 'MRK', 'WMT', 'CRM', 'IBM', 'TRV', 'CSCO', 'AXP', 'CVX', 'BA', 'GS', 'CAT', 'DOW', 'AMGN', 'WBA', 'HON']\n",
    "risk_free_rate = 0.0\n",
    "initial_investment = 1000\n",
    "\n",
    "years = [2015, 2016, 2017, 2018, 2019, 2020, 2021]\n",
    "print(\"Year\\tInitial Investment \\tYillik getiri (%)\\t Std Dev (%)\\tAvg Max Drawdown (%)\\tSharpe Ratio\")\n",
    "for year in years:\n",
    "    annual_returns = []\n",
    "    max_drawdowns = []\n",
    "\n",
    "    # En iyi getiri sağlayan 5 hisseyi al\n",
    "    top_stocks = []\n",
    "    stock_returns = []\n",
    "\n",
    "    for symbol in symbols:\n",
    "        stock = yf.Ticker(symbol)\n",
    "        history = stock.history(start=f'{year-1}-01-01', end=f'{year-1}-12-31')\n",
    "\n",
    "        if len(history) > 0:\n",
    "            start_price = history['Close'][0]\n",
    "            end_price = history['Close'][-1]\n",
    "            annual_return = ((end_price / start_price) - 1) * 100\n",
    "            stock_returns.append((symbol, annual_return))\n",
    "\n",
    "    stock_returns.sort(key=lambda x: x[1], reverse=True)\n",
    "    top_stocks = stock_returns[:5]  # İlk 5 en iyi getiri sağlayan hisseyi seç\n",
    "\n",
    "    # Portföyün getirilerini hesapla\n",
    "    portfolio_return = 0\n",
    "    for symbol, _ in top_stocks:\n",
    "        stock = yf.Ticker(symbol)\n",
    "        history = stock.history(start=f'{year}-01-01', end=f'{year}-12-31')\n",
    "\n",
    "        if len(history) > 0:\n",
    "            prices = history['Close']\n",
    "            initial_price = prices.iloc[0]\n",
    "            final_price = prices.iloc[-1]\n",
    "            annual_return = ((final_price / initial_price) - 1) * 100\n",
    "            portfolio_return += annual_return / 5  # Eşit ağırlıklı portföy olduğu için paylaştır\n",
    "\n",
    "            drawdowns = (prices / prices.cummax() - 1) * 100\n",
    "            max_drawdown = drawdowns.min()\n",
    "            max_drawdowns.append(max_drawdown)\n",
    "\n",
    "    avg_annual_return = np.mean(annual_returns)\n",
    "    std_dev_annual_return = np.std(annual_returns)\n",
    "    avg_max_drawdown = np.mean(max_drawdowns)\n",
    "    \n",
    "    excess_returns = np.array(annual_returns) - risk_free_rate / 252\n",
    "    if np.std(excess_returns) != 0:\n",
    "        sharpe_ratio = (np.mean(excess_returns) / np.std(excess_returns)) * np.sqrt(252)\n",
    "    else:\n",
    "        sharpe_ratio = 0 \n",
    "\n",
    "    print(f\"{year}\\t${initial_investment:.2f}\\t\\t\\t{portfolio_return:.2f}\\t\\t\\t{std_dev_annual_return:.2f}\\t\\t\\t{avg_max_drawdown:.2f}\\t\\t\\t{sharpe_ratio:.2f}\")\n"
   ]
  },
  {
   "cell_type": "markdown",
   "metadata": {},
   "source": [
    "Strateji 7"
   ]
  },
  {
   "cell_type": "code",
   "execution_count": 32,
   "metadata": {},
   "outputs": [
    {
     "name": "stdout",
     "output_type": "stream",
     "text": [
      "Year\tInitial Investment \tAvg Annual Return (%)\t Std Dev (%)\tAvg Max Drawdown (%)\tSharpe Ratio\tWorst Stocks\n"
     ]
    },
    {
     "name": "stderr",
     "output_type": "stream",
     "text": [
      "DOW: Data doesn't exist for startDate = 1420088400, endDate = 1451538000\n",
      "DOW: Data doesn't exist for startDate = 1388552400, endDate = 1420002000\n"
     ]
    },
    {
     "name": "stdout",
     "output_type": "stream",
     "text": [
      "2015\t$1000.00\t\t\t7.50\t\t\t18.35\t\t\t-18.84\t\t\t6.49\t\t\tIBM: -11.64%, CVX: -5.64%, GOOGL: -3.92%, BA: -1.29%, VZ: 0.91%\n"
     ]
    },
    {
     "name": "stderr",
     "output_type": "stream",
     "text": [
      "DOW: Data doesn't exist for startDate = 1451624400, endDate = 1483160400\n",
      "DOW: Data doesn't exist for startDate = 1420088400, endDate = 1451538000\n"
     ]
    },
    {
     "name": "stdout",
     "output_type": "stream",
     "text": [
      "2016\t$1000.00\t\t\t14.13\t\t\t14.62\t\t\t-15.06\t\t\t15.35\t\t\tWMT: -26.20%, AXP: -23.53%, CAT: -22.44%, CVX: -16.35%, IBM: -11.21%\n"
     ]
    },
    {
     "name": "stderr",
     "output_type": "stream",
     "text": [
      "DOW: Data doesn't exist for startDate = 1483246800, endDate = 1514696400\n",
      "DOW: Data doesn't exist for startDate = 1451624400, endDate = 1483160400\n"
     ]
    },
    {
     "name": "stdout",
     "output_type": "stream",
     "text": [
      "2017\t$1000.00\t\t\t28.03\t\t\t22.74\t\t\t-10.63\t\t\t19.57\t\t\tNKE: -16.39%, CRM: -10.75%, AMGN: -5.23%, KO: 0.96%, WBA: 1.50%\n"
     ]
    },
    {
     "name": "stderr",
     "output_type": "stream",
     "text": [
      "DOW: Data doesn't exist for startDate = 1514782800, endDate = 1546232400\n",
      "DOW: Data doesn't exist for startDate = 1483246800, endDate = 1514696400\n"
     ]
    },
    {
     "name": "stdout",
     "output_type": "stream",
     "text": [
      "2018\t$1000.00\t\t\t1.17\t\t\t15.03\t\t\t-22.44\t\t\t1.24\t\t\tWBA: -10.73%, IBM: -4.68%, MRK: -3.58%, VZ: 1.69%, DIS: 2.92%\n"
     ]
    },
    {
     "name": "stderr",
     "output_type": "stream",
     "text": [
      "DOW: Data doesn't exist for startDate = 1514782800, endDate = 1546232400\n"
     ]
    },
    {
     "name": "stdout",
     "output_type": "stream",
     "text": [
      "2019\t$1000.00\t\t\t27.32\t\t\t17.24\t\t\t-15.45\t\t\t25.15\t\t\tGS: -35.36%, IBM: -23.41%, CAT: -18.23%, CVX: -11.55%, HON: -9.42%\n",
      "2020\t$1000.00\t\t\t9.49\t\t\t22.90\t\t\t-37.38\t\t\t6.58\t\t\tWBA: -10.69%, BA: 3.12%, CVX: 12.67%, VZ: 13.89%, CSCO: 13.93%\n",
      "2021\t$1000.00\t\t\t22.82\t\t\t21.09\t\t\t-16.40\t\t\t17.17\t\t\tBA: -34.61%, WBA: -30.47%, CVX: -25.75%, INTC: -17.88%, MRK: -9.66%\n"
     ]
    }
   ],
   "source": [
    "import yfinance as yf\n",
    "import numpy as np\n",
    "\n",
    "symbols = ['AAPL', 'MSFT', 'GOOGL',  'JPM', 'V', 'PG', 'JNJ', 'HD', 'DIS', 'UNH', 'KO', 'VZ', 'MCD', 'INTC', 'NKE', 'MRK', 'WMT', 'CRM', 'IBM', 'TRV', 'CSCO', 'AXP', 'CVX', 'BA', 'GS', 'CAT', 'DOW', 'AMGN', 'WBA', 'HON']\n",
    "risk_free_rate = 0.0\n",
    "initial_investment = 1000\n",
    "\n",
    "years = [2015, 2016, 2017, 2018, 2019, 2020, 2021]\n",
    "num_stocks = 5\n",
    "\n",
    "print(\"Year\\tInitial Investment \\tAvg Annual Return (%)\\t Std Dev (%)\\tAvg Max Drawdown (%)\\tSharpe Ratio\\tWorst Stocks\")\n",
    "for year in years:\n",
    "    annual_returns = []\n",
    "    max_drawdowns = []\n",
    "\n",
    "    for symbol in symbols:\n",
    "        stock = yf.Ticker(symbol)\n",
    "        history = stock.history(start=f'{year}-01-01', end=f'{year}-12-31')\n",
    "\n",
    "        if len(history) > 0:\n",
    "            prices = history['Close']\n",
    "            initial_price = prices.iloc[0]\n",
    "            final_price = prices.iloc[-1]\n",
    "            annual_return = ((final_price / initial_price) - 1) * 100\n",
    "            annual_returns.append(annual_return)\n",
    "\n",
    "            drawdowns = (prices / prices.cummax() - 1) * 100\n",
    "            max_drawdown = drawdowns.min()\n",
    "            max_drawdowns.append(max_drawdown)\n",
    "\n",
    "    avg_annual_return = np.mean(annual_returns)\n",
    "    std_dev_annual_return = np.std(annual_returns)\n",
    "    avg_max_drawdown = np.mean(max_drawdowns)\n",
    "    \n",
    "    excess_returns = np.array(annual_returns) - risk_free_rate / 252\n",
    "    sharpe_ratio = (np.mean(excess_returns) / np.std(excess_returns)) * np.sqrt(252)\n",
    "    \n",
    "    worst_stocks = []\n",
    "    stock_returns = []\n",
    "\n",
    "    for symbol in symbols:\n",
    "        stock = yf.Ticker(symbol)\n",
    "        history = stock.history(start=f'{year-1}-01-01', end=f'{year-1}-12-31')\n",
    "\n",
    "        if len(history) > 0:\n",
    "            start_price = history['Close'][0]\n",
    "            end_price = history['Close'][-1]\n",
    "            annual_return = (end_price - start_price) / start_price * 100\n",
    "            \n",
    "            stock_returns.append((symbol, annual_return))\n",
    "\n",
    "    stock_returns.sort(key=lambda x: x[1])\n",
    "    worst_stocks = stock_returns[:num_stocks]\n",
    "    \n",
    "    if len(worst_stocks) == num_stocks:\n",
    "        worst_stocks_str = ', '.join([f\"{stock}: {return_percent:.2f}%\" for stock, return_percent in worst_stocks])\n",
    "        print(f\"{year}\\t${initial_investment:.2f}\\t\\t\\t{avg_annual_return:.2f}\\t\\t\\t{std_dev_annual_return:.2f}\\t\\t\\t{avg_max_drawdown:.2f}\\t\\t\\t{sharpe_ratio:.2f}\\t\\t\\t{worst_stocks_str}\")\n",
    "    else:\n",
    "        print(f\"{year}\\t${initial_investment:.2f}\\t\\t\\tData not available\")\n",
    "\n"
   ]
  },
  {
   "cell_type": "markdown",
   "metadata": {},
   "source": [
    "Strateji 8"
   ]
  },
  {
   "cell_type": "code",
   "execution_count": 33,
   "metadata": {},
   "outputs": [
    {
     "name": "stdout",
     "output_type": "stream",
     "text": [
      "[*********************100%***********************]  30 of 30 completed"
     ]
    },
    {
     "name": "stderr",
     "output_type": "stream",
     "text": [
      "\n",
      "1 Failed download:\n",
      "['DOW']: Exception(\"%ticker%: Data doesn't exist for startDate = 1388552400, endDate = 1420002000\")\n"
     ]
    },
    {
     "name": "stdout",
     "output_type": "stream",
     "text": [
      "\n",
      "[*********************100%***********************]  30 of 30 completed"
     ]
    },
    {
     "name": "stderr",
     "output_type": "stream",
     "text": [
      "\n",
      "1 Failed download:\n",
      "['DOW']: Exception(\"%ticker%: Data doesn't exist for startDate = 1420088400, endDate = 1451538000\")\n"
     ]
    },
    {
     "name": "stdout",
     "output_type": "stream",
     "text": [
      "\n",
      "[*********************100%***********************]  30 of 30 completed\n"
     ]
    },
    {
     "name": "stderr",
     "output_type": "stream",
     "text": [
      "\n",
      "1 Failed download:\n",
      "['DOW']: Exception(\"%ticker%: Data doesn't exist for startDate = 1451624400, endDate = 1483160400\")\n"
     ]
    },
    {
     "name": "stdout",
     "output_type": "stream",
     "text": [
      "[*********************100%***********************]  30 of 30 completed"
     ]
    },
    {
     "name": "stderr",
     "output_type": "stream",
     "text": [
      "\n",
      "1 Failed download:\n",
      "['DOW']: Exception(\"%ticker%: Data doesn't exist for startDate = 1483246800, endDate = 1514696400\")\n"
     ]
    },
    {
     "name": "stdout",
     "output_type": "stream",
     "text": [
      "\n",
      "[*********************100%***********************]  30 of 30 completed"
     ]
    },
    {
     "name": "stderr",
     "output_type": "stream",
     "text": [
      "\n",
      "1 Failed download:\n",
      "['DOW']: Exception(\"%ticker%: Data doesn't exist for startDate = 1514782800, endDate = 1546232400\")\n"
     ]
    },
    {
     "name": "stdout",
     "output_type": "stream",
     "text": [
      "\n",
      "[*********************100%***********************]  30 of 30 completed\n",
      "[*********************100%***********************]  30 of 30 completed\n",
      "[*********************100%***********************]  30 of 30 completed\n",
      "[*********************100%***********************]  30 of 30 completed\n",
      "Korelasyon Matrisi 2014:\n",
      "           AAPL      AMGN       AXP        BA       CAT       CRM      CSCO  \\\n",
      "AAPL   1.000000  0.844833  0.306891  0.027790  0.316235  0.086999  0.905303   \n",
      "AMGN   0.844833  1.000000  0.208387 -0.036604 -0.070313  0.445617  0.706472   \n",
      "AXP    0.306891  0.208387  1.000000  0.334547  0.361980  0.142736  0.454040   \n",
      "BA     0.027790 -0.036604  0.334547  1.000000 -0.053081 -0.017908  0.107830   \n",
      "CAT    0.316235 -0.070313  0.361980 -0.053081  1.000000 -0.292912  0.387509   \n",
      "CRM    0.086999  0.445617  0.142736 -0.017908 -0.292912  1.000000 -0.037167   \n",
      "CSCO   0.905303  0.706472  0.454040  0.107830  0.387509 -0.037167  1.000000   \n",
      "CVX    0.110780 -0.325944  0.291997  0.087172  0.790066 -0.393603  0.213164   \n",
      "DIS    0.919270  0.795239  0.408065 -0.094111  0.406492  0.118944  0.868992   \n",
      "DOW         NaN       NaN       NaN       NaN       NaN       NaN       NaN   \n",
      "GOOGL -0.277750 -0.264246  0.149509 -0.147801  0.133432  0.352456 -0.277549   \n",
      "GS     0.826187  0.908488  0.248970  0.082558 -0.112578  0.403907  0.690134   \n",
      "HD     0.886009  0.953500  0.191170  0.022249 -0.030989  0.336558  0.736313   \n",
      "HON    0.719337  0.717879  0.649876  0.132886  0.349586  0.278655  0.785400   \n",
      "IBM   -0.500869 -0.709864 -0.188946 -0.103248  0.347924 -0.424348 -0.397699   \n",
      "INTC   0.942500  0.787341  0.257435 -0.097508  0.345439  0.059868  0.900319   \n",
      "JNJ    0.892736  0.664651  0.416784  0.054100  0.557609 -0.071985  0.864366   \n",
      "JPM    0.680507  0.824010  0.362755  0.002648 -0.046313  0.435712  0.602975   \n",
      "KO     0.869611  0.643640  0.260624  0.153317  0.353618 -0.072127  0.808874   \n",
      "MCD   -0.085904 -0.374180  0.452901  0.336705  0.584614 -0.426331  0.100379   \n",
      "MRK    0.763718  0.596032  0.391055 -0.153926  0.613388  0.058967  0.751908   \n",
      "MSFT   0.946052  0.837484  0.251747 -0.140810  0.371869  0.118150  0.858056   \n",
      "NKE    0.855692  0.952225  0.241051  0.015780 -0.080454  0.357294  0.717724   \n",
      "PG     0.883579  0.908330  0.214560  0.068355  0.058184  0.165004  0.800943   \n",
      "TRV    0.943667  0.791058  0.430515  0.164950  0.298790  0.017655  0.908071   \n",
      "UNH    0.908363  0.919234  0.360193 -0.040822  0.146107  0.204273  0.843343   \n",
      "V      0.574388  0.798777  0.459567  0.244662 -0.247357  0.481788  0.580746   \n",
      "VZ     0.744156  0.448046  0.273745  0.032114  0.554068 -0.032578  0.689583   \n",
      "WBA    0.301629  0.107233  0.733404  0.116322  0.435599 -0.186926  0.494620   \n",
      "WMT    0.697130  0.720860  0.330673  0.285062 -0.001247  0.018264  0.737631   \n",
      "\n",
      "            CVX       DIS  DOW  ...       MRK      MSFT       NKE        PG  \\\n",
      "AAPL   0.110780  0.919270  NaN  ...  0.763718  0.946052  0.855692  0.883579   \n",
      "AMGN  -0.325944  0.795239  NaN  ...  0.596032  0.837484  0.952225  0.908330   \n",
      "AXP    0.291997  0.408065  NaN  ...  0.391055  0.251747  0.241051  0.214560   \n",
      "BA     0.087172 -0.094111  NaN  ... -0.153926 -0.140810  0.015780  0.068355   \n",
      "CAT    0.790066  0.406492  NaN  ...  0.613388  0.371869 -0.080454  0.058184   \n",
      "CRM   -0.393603  0.118944  NaN  ...  0.058967  0.118150  0.357294  0.165004   \n",
      "CSCO   0.213164  0.868992  NaN  ...  0.751908  0.858056  0.717724  0.800943   \n",
      "CVX    1.000000  0.169931  NaN  ...  0.289274  0.124767 -0.319302 -0.181287   \n",
      "DIS    0.169931  1.000000  NaN  ...  0.851225  0.934284  0.781358  0.819973   \n",
      "DOW         NaN       NaN  NaN  ...       NaN       NaN       NaN       NaN   \n",
      "GOOGL  0.281199 -0.105601  NaN  ... -0.014590 -0.200444 -0.326026 -0.501567   \n",
      "GS    -0.166622  0.758026  NaN  ...  0.520234  0.801972  0.897153  0.830039   \n",
      "HD    -0.221106  0.834266  NaN  ...  0.622526  0.870964  0.947437  0.934268   \n",
      "HON    0.062626  0.810522  NaN  ...  0.707450  0.721451  0.676071  0.734191   \n",
      "IBM    0.573857 -0.343393  NaN  ... -0.110936 -0.374410 -0.730444 -0.626217   \n",
      "INTC   0.209593  0.920247  NaN  ...  0.780035  0.946217  0.766212  0.814209   \n",
      "JNJ    0.343467  0.878967  NaN  ...  0.856167  0.902390  0.679892  0.781770   \n",
      "JPM   -0.158019  0.703956  NaN  ...  0.545791  0.743064  0.771420  0.729503   \n",
      "KO     0.212543  0.761314  NaN  ...  0.704689  0.832037  0.729405  0.780219   \n",
      "MCD    0.489966 -0.046668  NaN  ...  0.170279 -0.109245 -0.267379 -0.139209   \n",
      "MRK    0.289274  0.851225  NaN  ...  1.000000  0.840156  0.563306  0.630912   \n",
      "MSFT   0.124767  0.934284  NaN  ...  0.840156  1.000000  0.821824  0.865594   \n",
      "NKE   -0.319302  0.781358  NaN  ...  0.563306  0.821824  1.000000  0.908105   \n",
      "PG    -0.181287  0.819973  NaN  ...  0.630912  0.865594  0.908105  1.000000   \n",
      "TRV    0.090082  0.866467  NaN  ...  0.707648  0.874585  0.839359  0.907329   \n",
      "UNH   -0.107081  0.888232  NaN  ...  0.696856  0.916197  0.919584  0.934958   \n",
      "V     -0.437371  0.523590  NaN  ...  0.297460  0.497162  0.776861  0.728624   \n",
      "VZ     0.505431  0.661203  NaN  ...  0.616836  0.736548  0.484776  0.485742   \n",
      "WBA    0.245399  0.399828  NaN  ...  0.432516  0.258766  0.188405  0.240201   \n",
      "WMT   -0.217179  0.617525  NaN  ...  0.470168  0.646332  0.764272  0.866274   \n",
      "\n",
      "            TRV       UNH         V        VZ       WBA       WMT  \n",
      "AAPL   0.943667  0.908363  0.574388  0.744156  0.301629  0.697130  \n",
      "AMGN   0.791058  0.919234  0.798777  0.448046  0.107233  0.720860  \n",
      "AXP    0.430515  0.360193  0.459567  0.273745  0.733404  0.330673  \n",
      "BA     0.164950 -0.040822  0.244662  0.032114  0.116322  0.285062  \n",
      "CAT    0.298790  0.146107 -0.247357  0.554068  0.435599 -0.001247  \n",
      "CRM    0.017655  0.204273  0.481788 -0.032578 -0.186926  0.018264  \n",
      "CSCO   0.908071  0.843343  0.580746  0.689583  0.494620  0.737631  \n",
      "CVX    0.090082 -0.107081 -0.437371  0.505431  0.245399 -0.217179  \n",
      "DIS    0.866467  0.888232  0.523590  0.661203  0.399828  0.617525  \n",
      "DOW         NaN       NaN       NaN       NaN       NaN       NaN  \n",
      "GOOGL -0.442528 -0.344226 -0.265789  0.028627 -0.196007 -0.612117  \n",
      "GS     0.763780  0.852750  0.711011  0.527245  0.018735  0.640085  \n",
      "HD     0.847094  0.924495  0.703288  0.497893  0.104490  0.741229  \n",
      "HON    0.756582  0.791416  0.736053  0.420670  0.560710  0.698354  \n",
      "IBM   -0.565344 -0.596752 -0.781773 -0.097368 -0.178587 -0.576753  \n",
      "INTC   0.856325  0.871036  0.476859  0.728915  0.228632  0.608615  \n",
      "JNJ    0.896601  0.816823  0.373949  0.765103  0.434387  0.629683  \n",
      "JPM    0.630514  0.811479  0.662207  0.419614  0.090701  0.605367  \n",
      "KO     0.872477  0.767501  0.382906  0.721328  0.272634  0.687938  \n",
      "MCD    0.101349 -0.142738 -0.205196  0.125058  0.616665  0.087379  \n",
      "MRK    0.707648  0.696856  0.297460  0.616836  0.432516  0.470168  \n",
      "MSFT   0.874585  0.916197  0.497162  0.736548  0.258766  0.646332  \n",
      "NKE    0.839359  0.919584  0.776861  0.484776  0.188405  0.764272  \n",
      "PG     0.907329  0.934958  0.728624  0.485742  0.240201  0.866274  \n",
      "TRV    1.000000  0.905668  0.629829  0.662857  0.463551  0.805381  \n",
      "UNH    0.905668  1.000000  0.721347  0.570756  0.346564  0.800179  \n",
      "V      0.629829  0.721347  1.000000  0.158834  0.293779  0.754281  \n",
      "VZ     0.662857  0.570756  0.158834  1.000000  0.207014  0.289780  \n",
      "WBA    0.463551  0.346564  0.293779  0.207014  1.000000  0.399140  \n",
      "WMT    0.805381  0.800179  0.754281  0.289780  0.399140  1.000000  \n",
      "\n",
      "[30 rows x 30 columns]\n",
      "--------------------------------------------------\n",
      "Korelasyon Matrisi 2015:\n",
      "           AAPL      AMGN       AXP        BA       CAT       CRM      CSCO  \\\n",
      "AAPL   1.000000  0.305111  0.165162  0.642931  0.621076  0.050832  0.613831   \n",
      "AMGN   0.305111  1.000000 -0.059768  0.529204  0.218903  0.271287  0.495222   \n",
      "AXP    0.165162 -0.059768  1.000000 -0.200246  0.723660 -0.758431  0.163503   \n",
      "BA     0.642931  0.529204 -0.200246  1.000000  0.097960  0.271518  0.558716   \n",
      "CAT    0.621076  0.218903  0.723660  0.097960  1.000000 -0.472970  0.463451   \n",
      "CRM    0.050832  0.271287 -0.758431  0.271518 -0.472970  1.000000  0.227505   \n",
      "CSCO   0.613831  0.495222  0.163503  0.558716  0.463451  0.227505  1.000000   \n",
      "CVX    0.566251  0.211083  0.520865  0.438989  0.702630 -0.403128  0.536430   \n",
      "DIS    0.440578  0.495557 -0.519280  0.516349 -0.087978  0.759908  0.426057   \n",
      "DOW         NaN       NaN       NaN       NaN       NaN       NaN       NaN   \n",
      "GOOGL -0.400318  0.209333 -0.781101  0.124335 -0.798988  0.771786 -0.109520   \n",
      "GS     0.673724  0.489658  0.113003  0.285650  0.576890  0.281852  0.516903   \n",
      "HD    -0.238508  0.249208 -0.810805  0.335205 -0.745663  0.808657 -0.009285   \n",
      "HON    0.544912  0.757988 -0.141088  0.703446  0.258751  0.438136  0.630022   \n",
      "IBM    0.725434  0.207011  0.558472  0.159182  0.869367 -0.296047  0.483442   \n",
      "INTC  -0.080167  0.064247  0.043227  0.191036  0.017928  0.041119  0.350672   \n",
      "JNJ    0.125166  0.586680 -0.018196  0.486832  0.107128  0.190476  0.439279   \n",
      "JPM    0.241833  0.499491 -0.477146  0.247655 -0.073307  0.790979  0.315783   \n",
      "KO    -0.260288  0.307985 -0.262416  0.285152 -0.347766  0.365165  0.309980   \n",
      "MCD   -0.244530  0.245304 -0.776893  0.316529 -0.677762  0.803750  0.066896   \n",
      "MRK    0.448112  0.430283  0.672155  0.132992  0.845544 -0.484422  0.426683   \n",
      "MSFT  -0.230371  0.304597 -0.606868  0.156634 -0.446573  0.744815  0.207091   \n",
      "NKE   -0.366694  0.088591 -0.776386  0.038564 -0.769406  0.852722 -0.058542   \n",
      "PG     0.249259  0.227419  0.591057  0.262587  0.550399 -0.547082  0.354827   \n",
      "TRV   -0.174894  0.414041 -0.430824  0.518335 -0.488107  0.413360  0.190812   \n",
      "UNH    0.272491  0.327804 -0.444234  0.277512 -0.189662  0.632803  0.163973   \n",
      "V     -0.261622  0.294258 -0.726822  0.206040 -0.664132  0.838345  0.098496   \n",
      "VZ     0.715080  0.522151  0.267472  0.590232  0.655619 -0.093908  0.638983   \n",
      "WBA    0.200744  0.444250 -0.367366  0.206111 -0.164262  0.551972  0.137956   \n",
      "WMT    0.349650  0.032563  0.827773  0.061287  0.745401 -0.839887  0.174660   \n",
      "\n",
      "            CVX       DIS  DOW  ...       MRK      MSFT       NKE        PG  \\\n",
      "AAPL   0.566251  0.440578  NaN  ...  0.448112 -0.230371 -0.366694  0.249259   \n",
      "AMGN   0.211083  0.495557  NaN  ...  0.430283  0.304597  0.088591  0.227419   \n",
      "AXP    0.520865 -0.519280  NaN  ...  0.672155 -0.606868 -0.776386  0.591057   \n",
      "BA     0.438989  0.516349  NaN  ...  0.132992  0.156634  0.038564  0.262587   \n",
      "CAT    0.702630 -0.087978  NaN  ...  0.845544 -0.446573 -0.769406  0.550399   \n",
      "CRM   -0.403128  0.759908  NaN  ... -0.484422  0.744815  0.852722 -0.547082   \n",
      "CSCO   0.536430  0.426057  NaN  ...  0.426683  0.207091 -0.058542  0.354827   \n",
      "CVX    1.000000 -0.103056  NaN  ...  0.653478 -0.204250 -0.621769  0.830467   \n",
      "DIS   -0.103056  1.000000  NaN  ... -0.084701  0.502120  0.537809 -0.224811   \n",
      "DOW         NaN       NaN  NaN  ...       NaN       NaN       NaN       NaN   \n",
      "GOOGL -0.620923  0.472715  NaN  ... -0.627635  0.786972  0.924602 -0.517661   \n",
      "GS     0.181086  0.643670  NaN  ...  0.454877 -0.001090 -0.088270  0.017996   \n",
      "HD    -0.449673  0.514742  NaN  ... -0.624720  0.775397  0.884655 -0.426471   \n",
      "HON    0.260759  0.654007  NaN  ...  0.337000  0.367798  0.154826  0.151764   \n",
      "IBM    0.563145  0.068690  NaN  ...  0.682081 -0.508193 -0.659361  0.354817   \n",
      "INTC   0.501043 -0.096100  NaN  ...  0.116248  0.526921  0.102907  0.526688   \n",
      "JNJ    0.479944  0.284202  NaN  ...  0.367074  0.588955  0.144376  0.598662   \n",
      "JPM   -0.307796  0.847044  NaN  ... -0.080268  0.563351  0.579312 -0.374179   \n",
      "KO     0.117795  0.212004  NaN  ... -0.087145  0.760096  0.517094  0.309239   \n",
      "MCD   -0.323648  0.515776  NaN  ... -0.535325  0.892681  0.874048 -0.292825   \n",
      "MRK    0.653478 -0.084701  NaN  ...  1.000000 -0.278081 -0.680347  0.688995   \n",
      "MSFT  -0.204250  0.502120  NaN  ... -0.278081  1.000000  0.783780 -0.146244   \n",
      "NKE   -0.621769  0.537809  NaN  ... -0.680347  0.783780  1.000000 -0.567223   \n",
      "PG     0.830467 -0.224811  NaN  ...  0.688995 -0.146244 -0.567223  1.000000   \n",
      "TRV    0.034972  0.322081  NaN  ... -0.211960  0.679752  0.543998  0.149984   \n",
      "UNH   -0.381855  0.626689  NaN  ... -0.248811  0.158898  0.459394 -0.493920   \n",
      "V     -0.511336  0.608822  NaN  ... -0.526048  0.844438  0.918265 -0.458070   \n",
      "VZ     0.693643  0.196402  NaN  ...  0.613695 -0.121069 -0.456015  0.452104   \n",
      "WBA   -0.448227  0.631333  NaN  ... -0.189241  0.094594  0.410103 -0.491848   \n",
      "WMT    0.717672 -0.494215  NaN  ...  0.744226 -0.690644 -0.934406  0.742024   \n",
      "\n",
      "            TRV       UNH         V        VZ       WBA       WMT  \n",
      "AAPL  -0.174894  0.272491 -0.261622  0.715080  0.200744  0.349650  \n",
      "AMGN   0.414041  0.327804  0.294258  0.522151  0.444250  0.032563  \n",
      "AXP   -0.430824 -0.444234 -0.726822  0.267472 -0.367366  0.827773  \n",
      "BA     0.518335  0.277512  0.206040  0.590232  0.206111  0.061287  \n",
      "CAT   -0.488107 -0.189662 -0.664132  0.655619 -0.164262  0.745401  \n",
      "CRM    0.413360  0.632803  0.838345 -0.093908  0.551972 -0.839887  \n",
      "CSCO   0.190812  0.163973  0.098496  0.638983  0.137956  0.174660  \n",
      "CVX    0.034972 -0.381855 -0.511336  0.693643 -0.448227  0.717672  \n",
      "DIS    0.322081  0.626689  0.608822  0.196402  0.631333 -0.494215  \n",
      "DOW         NaN       NaN       NaN       NaN       NaN       NaN  \n",
      "GOOGL  0.669117  0.360660  0.945885 -0.395978  0.372167 -0.874956  \n",
      "GS    -0.262090  0.487919  0.013313  0.451469  0.526210  0.056434  \n",
      "HD     0.725367  0.420171  0.904754 -0.230537  0.345082 -0.813014  \n",
      "HON    0.394430  0.428159  0.373444  0.562594  0.408766 -0.058830  \n",
      "IBM   -0.604458  0.123340 -0.613688  0.664505  0.127665  0.651428  \n",
      "INTC   0.536946 -0.450040  0.171364  0.137919 -0.584290  0.041955  \n",
      "JNJ    0.689808 -0.152869  0.316842  0.361905 -0.177752  0.051416  \n",
      "JPM    0.169965  0.659561  0.650004  0.078942  0.686073 -0.579710  \n",
      "KO     0.800679 -0.107169  0.603226 -0.035418 -0.163414 -0.283741  \n",
      "MCD    0.773769  0.292761  0.900316 -0.185317  0.213461 -0.793518  \n",
      "MRK   -0.211960 -0.248811 -0.526048  0.613695 -0.189241  0.744226  \n",
      "MSFT   0.679752  0.158898  0.844438 -0.121069  0.094594 -0.690644  \n",
      "NKE    0.543998  0.459394  0.918265 -0.456015  0.410103 -0.934406  \n",
      "PG     0.149984 -0.493920 -0.458070  0.452104 -0.491848  0.742024  \n",
      "TRV    1.000000 -0.022915  0.668609  0.018840 -0.010563 -0.375193  \n",
      "UNH   -0.022915  1.000000  0.392322  0.075648  0.819413 -0.466094  \n",
      "V      0.668609  0.392322  1.000000 -0.290480  0.387765 -0.853751  \n",
      "VZ     0.018840  0.075648 -0.290480  1.000000  0.090199  0.480907  \n",
      "WBA   -0.010563  0.819413  0.387765  0.090199  1.000000 -0.413249  \n",
      "WMT   -0.375193 -0.466094 -0.853751  0.480907 -0.413249  1.000000  \n",
      "\n",
      "[30 rows x 30 columns]\n",
      "--------------------------------------------------\n",
      "Korelasyon Matrisi 2016:\n",
      "           AAPL      AMGN       AXP        BA       CAT       CRM      CSCO  \\\n",
      "AAPL   1.000000  0.282429  0.588658  0.660223  0.794522 -0.066049  0.715459   \n",
      "AMGN   0.282429  1.000000  0.119638 -0.020449  0.255970  0.428169  0.533566   \n",
      "AXP    0.588658  0.119638  1.000000  0.930329  0.816503  0.303735  0.669021   \n",
      "BA     0.660223 -0.020449  0.930329  1.000000  0.859958  0.143146  0.633170   \n",
      "CAT    0.794522  0.255970  0.816503  0.859958  1.000000  0.166702  0.868745   \n",
      "CRM   -0.066049  0.428169  0.303735  0.143146  0.166702  1.000000  0.427465   \n",
      "CSCO   0.715459  0.533566  0.669021  0.633170  0.868745  0.427465  1.000000   \n",
      "CVX    0.574012  0.159811  0.845746  0.862144  0.902004  0.343831  0.798675   \n",
      "DIS   -0.052833 -0.215916  0.525845  0.483158  0.215457  0.219734  0.016501   \n",
      "DOW         NaN       NaN       NaN       NaN       NaN       NaN       NaN   \n",
      "GOOGL  0.905853  0.460364  0.547817  0.585072  0.717011  0.023982  0.717860   \n",
      "GS     0.642689 -0.150214  0.844428  0.907661  0.768340 -0.155233  0.458231   \n",
      "HD     0.279517  0.469563  0.564259  0.473687  0.518956  0.591198  0.561677   \n",
      "HON    0.388862  0.431343  0.617484  0.556943  0.730096  0.550439  0.798805   \n",
      "IBM    0.646369  0.413334  0.805336  0.776117  0.905175  0.472729  0.919934   \n",
      "INTC   0.822850  0.510059  0.667248  0.689905  0.853048  0.200034  0.888592   \n",
      "JNJ    0.401131  0.603970  0.496189  0.454392  0.706238  0.583755  0.874034   \n",
      "JPM    0.694657  0.009460  0.898727  0.940287  0.887843  0.020664  0.658333   \n",
      "KO    -0.306310  0.151579 -0.224073 -0.276391 -0.180561  0.517675  0.025416   \n",
      "MCD   -0.211106 -0.111382  0.187718  0.157962  0.028953  0.272653 -0.091799   \n",
      "MRK    0.726058  0.564872  0.706357  0.679517  0.880804  0.358899  0.933441   \n",
      "MSFT   0.892896  0.210070  0.754393  0.817534  0.870009 -0.014482  0.748954   \n",
      "NKE   -0.514777  0.001451 -0.616217 -0.660386 -0.709924 -0.074211 -0.598546   \n",
      "PG     0.666711  0.568469  0.381842  0.422473  0.740662  0.197189  0.874843   \n",
      "TRV    0.518083  0.441590  0.559612  0.550440  0.687641  0.365692  0.720573   \n",
      "UNH    0.626920  0.197935  0.845586  0.864276  0.924944  0.301530  0.812037   \n",
      "V      0.658105  0.607362  0.608885  0.535902  0.722918  0.472337  0.846294   \n",
      "VZ     0.128545  0.391922  0.119175  0.141801  0.385991  0.355357  0.494361   \n",
      "WBA    0.533593  0.020300  0.689899  0.719837  0.670539  0.192756  0.548839   \n",
      "WMT    0.413950  0.532198  0.503428  0.454428  0.701784  0.525823  0.840646   \n",
      "\n",
      "            CVX       DIS  DOW  ...       MRK      MSFT       NKE        PG  \\\n",
      "AAPL   0.574012 -0.052833  NaN  ...  0.726058  0.892896 -0.514777  0.666711   \n",
      "AMGN   0.159811 -0.215916  NaN  ...  0.564872  0.210070  0.001451  0.568469   \n",
      "AXP    0.845746  0.525845  NaN  ...  0.706357  0.754393 -0.616217  0.381842   \n",
      "BA     0.862144  0.483158  NaN  ...  0.679517  0.817534 -0.660386  0.422473   \n",
      "CAT    0.902004  0.215457  NaN  ...  0.880804  0.870009 -0.709924  0.740662   \n",
      "CRM    0.343831  0.219734  NaN  ...  0.358899 -0.014482 -0.074211  0.197189   \n",
      "CSCO   0.798675  0.016501  NaN  ...  0.933441  0.748954 -0.598546  0.874843   \n",
      "CVX    1.000000  0.437454  NaN  ...  0.793425  0.716179 -0.699630  0.633128   \n",
      "DIS    0.437454  1.000000  NaN  ... -0.014893  0.104791  0.041753 -0.239791   \n",
      "DOW         NaN       NaN  NaN  ...       NaN       NaN       NaN       NaN   \n",
      "GOOGL  0.501152 -0.117798  NaN  ...  0.740003  0.887174 -0.415676  0.713387   \n",
      "GS     0.732221  0.476781  NaN  ...  0.530027  0.816111 -0.590263  0.290359   \n",
      "HD     0.626245  0.599503  NaN  ...  0.495162  0.378141 -0.023676  0.366907   \n",
      "HON    0.840439  0.368854  NaN  ...  0.727167  0.471008 -0.405747  0.673817   \n",
      "IBM    0.919278  0.297729  NaN  ...  0.885021  0.746455 -0.601579  0.752777   \n",
      "INTC   0.722573 -0.032317  NaN  ...  0.912376  0.846678 -0.608519  0.833364   \n",
      "JNJ    0.751970  0.045503  NaN  ...  0.836043  0.490313 -0.512078  0.834196   \n",
      "JPM    0.867728  0.405051  NaN  ...  0.711143  0.858143 -0.724256  0.486588   \n",
      "KO     0.021257  0.230386  NaN  ... -0.142728 -0.378574  0.402450  0.016322   \n",
      "MCD    0.274481  0.728496  NaN  ... -0.144787 -0.139288  0.223197 -0.223468   \n",
      "MRK    0.793425 -0.014893  NaN  ...  1.000000  0.774019 -0.665411  0.848281   \n",
      "MSFT   0.716179  0.104791  NaN  ...  0.774019  1.000000 -0.593007  0.665121   \n",
      "NKE   -0.699630  0.041753  NaN  ... -0.665411 -0.593007  1.000000 -0.522963   \n",
      "PG     0.633128 -0.239791  NaN  ...  0.848281  0.665121 -0.522963  1.000000   \n",
      "TRV    0.739284  0.359355  NaN  ...  0.656642  0.573049 -0.277432  0.627938   \n",
      "UNH    0.962570  0.372179  NaN  ...  0.818385  0.771228 -0.719048  0.652767   \n",
      "V      0.654987 -0.034686  NaN  ...  0.858570  0.632524 -0.541116  0.754833   \n",
      "VZ     0.496228  0.191105  NaN  ...  0.385789  0.180435 -0.058547  0.559323   \n",
      "WBA    0.672490  0.438022  NaN  ...  0.550165  0.639889 -0.324623  0.369033   \n",
      "WMT    0.739294  0.073240  NaN  ...  0.804788  0.510075 -0.484192  0.789948   \n",
      "\n",
      "            TRV       UNH         V        VZ       WBA       WMT  \n",
      "AAPL   0.518083  0.626920  0.658105  0.128545  0.533593  0.413950  \n",
      "AMGN   0.441590  0.197935  0.607362  0.391922  0.020300  0.532198  \n",
      "AXP    0.559612  0.845586  0.608885  0.119175  0.689899  0.503428  \n",
      "BA     0.550440  0.864276  0.535902  0.141801  0.719837  0.454428  \n",
      "CAT    0.687641  0.924944  0.722918  0.385991  0.670539  0.701784  \n",
      "CRM    0.365692  0.301530  0.472337  0.355357  0.192756  0.525823  \n",
      "CSCO   0.720573  0.812037  0.846294  0.494361  0.548839  0.840646  \n",
      "CVX    0.739284  0.962570  0.654987  0.496228  0.672490  0.739294  \n",
      "DIS    0.359355  0.372179 -0.034686  0.191105  0.438022  0.073240  \n",
      "DOW         NaN       NaN       NaN       NaN       NaN       NaN  \n",
      "GOOGL  0.493335  0.561752  0.721275  0.134059  0.443633  0.451696  \n",
      "GS     0.458900  0.755959  0.345521  0.024573  0.642246  0.278221  \n",
      "HD     0.780398  0.595641  0.489455  0.625932  0.483319  0.607512  \n",
      "HON    0.820852  0.807295  0.660601  0.743707  0.551833  0.873241  \n",
      "IBM    0.832219  0.918061  0.766447  0.577008  0.668814  0.846562  \n",
      "INTC   0.682443  0.758252  0.772447  0.365650  0.574044  0.692867  \n",
      "JNJ    0.717196  0.752249  0.742295  0.706975  0.394622  0.924349  \n",
      "JPM    0.576744  0.885587  0.536243  0.166712  0.653966  0.491297  \n",
      "KO     0.296344 -0.062858  0.006872  0.574886  0.041890  0.244800  \n",
      "MCD    0.319437  0.182751 -0.044704  0.377063  0.247017  0.084815  \n",
      "MRK    0.656642  0.818385  0.858570  0.385789  0.550165  0.804788  \n",
      "MSFT   0.573049  0.771228  0.632524  0.180435  0.639889  0.510075  \n",
      "NKE   -0.277432 -0.719048 -0.541116 -0.058547 -0.324623 -0.484192  \n",
      "PG     0.627938  0.652767  0.754833  0.559323  0.369033  0.789948  \n",
      "TRV    1.000000  0.744712  0.497001  0.777448  0.606728  0.750352  \n",
      "UNH    0.744712  1.000000  0.635045  0.499809  0.709859  0.767206  \n",
      "V      0.497001  0.635045  1.000000  0.241542  0.373603  0.664537  \n",
      "VZ     0.777448  0.499809  0.241542  1.000000  0.364880  0.733949  \n",
      "WBA    0.606728  0.709859  0.373603  0.364880  1.000000  0.491927  \n",
      "WMT    0.750352  0.767206  0.664537  0.733949  0.491927  1.000000  \n",
      "\n",
      "[30 rows x 30 columns]\n",
      "--------------------------------------------------\n",
      "Korelasyon Matrisi 2017:\n",
      "           AAPL      AMGN       AXP        BA       CAT       CRM      CSCO  \\\n",
      "AAPL   1.000000  0.575507  0.834196  0.885263  0.859998  0.958064  0.701568   \n",
      "AMGN   0.575507  1.000000  0.700080  0.726722  0.618790  0.615488  0.473943   \n",
      "AXP    0.834196  0.700080  1.000000  0.964041  0.972620  0.911150  0.756885   \n",
      "BA     0.885263  0.726722  0.964041  1.000000  0.968568  0.930891  0.698979   \n",
      "CAT    0.859998  0.618790  0.972620  0.968568  1.000000  0.933415  0.743276   \n",
      "CRM    0.958064  0.615488  0.911150  0.930891  0.933415  1.000000  0.728998   \n",
      "CSCO   0.701568  0.473943  0.756885  0.698979  0.743276  0.728998  1.000000   \n",
      "CVX    0.455152  0.494212  0.765600  0.723522  0.782007  0.591478  0.653775   \n",
      "DIS   -0.417874 -0.537893 -0.492453 -0.544946 -0.502192 -0.499476  0.021899   \n",
      "DOW         NaN       NaN       NaN       NaN       NaN       NaN       NaN   \n",
      "GOOGL  0.889109  0.479266  0.827035  0.835160  0.868263  0.914814  0.627261   \n",
      "GS     0.156488  0.368904  0.514682  0.382101  0.451763  0.268433  0.632891   \n",
      "HD     0.868198  0.555604  0.883968  0.877926  0.912889  0.896407  0.860920   \n",
      "HON    0.932627  0.661434  0.943490  0.959479  0.953654  0.960233  0.751552   \n",
      "IBM   -0.618385 -0.354475 -0.452379 -0.591162 -0.514344 -0.570188 -0.019684   \n",
      "INTC   0.683981  0.330290  0.832132  0.752347  0.852746  0.780983  0.800633   \n",
      "JNJ    0.895097  0.675517  0.871802  0.893308  0.858187  0.904048  0.635164   \n",
      "JPM    0.751552  0.681545  0.961658  0.903492  0.919415  0.824951  0.822216   \n",
      "KO     0.880740  0.611911  0.803753  0.882061  0.836374  0.885958  0.460396   \n",
      "MCD    0.925392  0.622294  0.886969  0.926879  0.909673  0.941106  0.587650   \n",
      "MRK   -0.425049  0.087310 -0.555298 -0.442847 -0.561862 -0.499534 -0.560242   \n",
      "MSFT   0.918722  0.587200  0.955124  0.950875  0.973755  0.970969  0.738351   \n",
      "NKE    0.446050  0.283655  0.525721  0.468029  0.471774  0.418129  0.643706   \n",
      "PG     0.616047  0.766237  0.572352  0.688385  0.551695  0.570629  0.454079   \n",
      "TRV    0.800019  0.509164  0.879466  0.839336  0.856618  0.828576  0.689575   \n",
      "UNH    0.901620  0.657350  0.960763  0.970175  0.963979  0.947621  0.693228   \n",
      "V      0.942637  0.701458  0.941496  0.976741  0.952670  0.973817  0.686378   \n",
      "VZ     0.068313  0.173097  0.369076  0.354656  0.374737  0.130201  0.447115   \n",
      "WBA   -0.622893 -0.433129 -0.832431 -0.756686 -0.815415 -0.754855 -0.532880   \n",
      "WMT    0.906300  0.494289  0.914917  0.915676  0.948648  0.942589  0.791399   \n",
      "\n",
      "            CVX       DIS  DOW  ...       MRK      MSFT       NKE        PG  \\\n",
      "AAPL   0.455152 -0.417874  NaN  ... -0.425049  0.918722  0.446050  0.616047   \n",
      "AMGN   0.494212 -0.537893  NaN  ...  0.087310  0.587200  0.283655  0.766237   \n",
      "AXP    0.765600 -0.492453  NaN  ... -0.555298  0.955124  0.525721  0.572352   \n",
      "BA     0.723522 -0.544946  NaN  ... -0.442847  0.950875  0.468029  0.688385   \n",
      "CAT    0.782007 -0.502192  NaN  ... -0.561862  0.973755  0.471774  0.551695   \n",
      "CRM    0.591478 -0.499476  NaN  ... -0.499534  0.970969  0.418129  0.570629   \n",
      "CSCO   0.653775  0.021899  NaN  ... -0.560242  0.738351  0.643706  0.454079   \n",
      "CVX    1.000000 -0.379861  NaN  ... -0.514394  0.667780  0.312035  0.407982   \n",
      "DIS   -0.379861  1.000000  NaN  ... -0.035823 -0.481902  0.293047 -0.346536   \n",
      "DOW         NaN       NaN  NaN  ...       NaN       NaN       NaN       NaN   \n",
      "GOOGL  0.457088 -0.459684  NaN  ... -0.452703  0.925612  0.371211  0.381320   \n",
      "GS     0.756738  0.028881  NaN  ... -0.433955  0.352120  0.475480  0.182354   \n",
      "HD     0.661571 -0.301106  NaN  ... -0.497164  0.909940  0.515292  0.531187   \n",
      "HON    0.620588 -0.473009  NaN  ... -0.461235  0.968716  0.497834  0.600312   \n",
      "IBM   -0.080968  0.598783  NaN  ...  0.027185 -0.555295  0.006743 -0.371964   \n",
      "INTC   0.810544 -0.236185  NaN  ... -0.792384  0.841107  0.467143  0.262774   \n",
      "JNJ    0.468808 -0.513010  NaN  ... -0.343911  0.904069  0.434752  0.592763   \n",
      "JPM    0.793774 -0.346251  NaN  ... -0.570765  0.880194  0.636841  0.532697   \n",
      "KO     0.417801 -0.621993  NaN  ... -0.255338  0.874590  0.259318  0.601717   \n",
      "MCD    0.493808 -0.575466  NaN  ... -0.378735  0.941610  0.376569  0.566014   \n",
      "MRK   -0.514394 -0.035823  NaN  ...  1.000000 -0.590702 -0.523988  0.076748   \n",
      "MSFT   0.667780 -0.481902  NaN  ... -0.590702  1.000000  0.481746  0.519167   \n",
      "NKE    0.312035  0.293047  NaN  ... -0.523988  0.481746  1.000000  0.320391   \n",
      "PG     0.407982 -0.346536  NaN  ...  0.076748  0.519167  0.320391  1.000000   \n",
      "TRV    0.548609 -0.332077  NaN  ... -0.554696  0.882673  0.593377  0.442559   \n",
      "UNH    0.655445 -0.515935  NaN  ... -0.522091  0.974205  0.500295  0.583959   \n",
      "V      0.631086 -0.571658  NaN  ... -0.430178  0.969251  0.411663  0.658166   \n",
      "VZ     0.730974  0.039112  NaN  ... -0.347663  0.242329  0.334989  0.294734   \n",
      "WBA   -0.666950  0.539747  NaN  ...  0.569692 -0.810497 -0.236939 -0.232714   \n",
      "WMT    0.664711 -0.364956  NaN  ... -0.622966  0.963854  0.541398  0.497299   \n",
      "\n",
      "            TRV       UNH         V        VZ       WBA       WMT  \n",
      "AAPL   0.800019  0.901620  0.942637  0.068313 -0.622893  0.906300  \n",
      "AMGN   0.509164  0.657350  0.701458  0.173097 -0.433129  0.494289  \n",
      "AXP    0.879466  0.960763  0.941496  0.369076 -0.832431  0.914917  \n",
      "BA     0.839336  0.970175  0.976741  0.354656 -0.756686  0.915676  \n",
      "CAT    0.856618  0.963979  0.952670  0.374737 -0.815415  0.948648  \n",
      "CRM    0.828576  0.947621  0.973817  0.130201 -0.754855  0.942589  \n",
      "CSCO   0.689575  0.693228  0.686378  0.447115 -0.532880  0.791399  \n",
      "CVX    0.548609  0.655445  0.631086  0.730974 -0.666950  0.664711  \n",
      "DIS   -0.332077 -0.515935 -0.571658  0.039112  0.539747 -0.364956  \n",
      "DOW         NaN       NaN       NaN       NaN       NaN       NaN  \n",
      "GOOGL  0.839263  0.890167  0.892979  0.010817 -0.734989  0.901644  \n",
      "GS     0.400695  0.331275  0.282246  0.683909 -0.399815  0.359746  \n",
      "HD     0.828060  0.896541  0.883509  0.317851 -0.688183  0.939305  \n",
      "HON    0.890817  0.975309  0.972779  0.223566 -0.746091  0.956532  \n",
      "IBM   -0.409173 -0.603103 -0.632748  0.189256  0.324892 -0.506136  \n",
      "INTC   0.747405  0.764219  0.741636  0.457817 -0.780736  0.841556  \n",
      "JNJ    0.897959  0.925245  0.928255  0.097088 -0.733745  0.877445  \n",
      "JPM    0.855317  0.892817  0.854694  0.476193 -0.769763  0.862732  \n",
      "KO     0.791103  0.900123  0.920920  0.014915 -0.676142  0.839040  \n",
      "MCD    0.851937  0.955646  0.959319  0.068863 -0.734014  0.909318  \n",
      "MRK   -0.554696 -0.522091 -0.430178 -0.347663  0.569692 -0.622966  \n",
      "MSFT   0.882673  0.974205  0.969251  0.242329 -0.810497  0.963854  \n",
      "NKE    0.593377  0.500295  0.411663  0.334989 -0.236939  0.541398  \n",
      "PG     0.442559  0.583959  0.658166  0.294734 -0.232714  0.497299  \n",
      "TRV    1.000000  0.884974  0.843454  0.227812 -0.779012  0.885233  \n",
      "UNH    0.884974  1.000000  0.969705  0.269871 -0.775445  0.943600  \n",
      "V      0.843454  0.969705  1.000000  0.209074 -0.756775  0.927282  \n",
      "VZ     0.227812  0.269871  0.209074  1.000000 -0.222538  0.306110  \n",
      "WBA   -0.779012 -0.775445 -0.756775 -0.222538  1.000000 -0.759621  \n",
      "WMT    0.885233  0.943600  0.927282  0.306110 -0.759621  1.000000  \n",
      "\n",
      "[30 rows x 30 columns]\n",
      "--------------------------------------------------\n",
      "Korelasyon Matrisi 2018:\n",
      "           AAPL      AMGN       AXP        BA       CAT       CRM      CSCO  \\\n",
      "AAPL   1.000000  0.691344  0.672316  0.698133 -0.161162  0.820031  0.661329   \n",
      "AMGN   0.691344  1.000000  0.784809  0.502465 -0.303954  0.768194  0.673737   \n",
      "AXP    0.672316  0.784809  1.000000  0.494455 -0.269761  0.681670  0.776487   \n",
      "BA     0.698133  0.502465  0.494455  1.000000  0.133461  0.600058  0.551885   \n",
      "CAT   -0.161162 -0.303954 -0.269761  0.133461  1.000000 -0.361834 -0.317965   \n",
      "CRM    0.820031  0.768194  0.681670  0.600058 -0.361834  1.000000  0.738173   \n",
      "CSCO   0.661329  0.673737  0.776487  0.551885 -0.317965  0.738173  1.000000   \n",
      "CVX    0.220039  0.069271  0.279265  0.223361  0.408116  0.178647  0.004848   \n",
      "DIS    0.596259  0.837109  0.759066  0.363139 -0.365207  0.537427  0.488566   \n",
      "DOW         NaN       NaN       NaN       NaN       NaN       NaN       NaN   \n",
      "GOOGL  0.594755  0.569011  0.354634  0.469802  0.193877  0.606056  0.202830   \n",
      "GS    -0.086743 -0.405506 -0.422257  0.083921  0.756136 -0.396157 -0.380597   \n",
      "HD     0.605523  0.472463  0.403045  0.530118  0.358600  0.551655  0.194582   \n",
      "HON    0.710819  0.680241  0.658376  0.631067  0.302638  0.489623  0.477725   \n",
      "IBM   -0.024719 -0.226644 -0.327666  0.091554  0.860628 -0.228959 -0.339948   \n",
      "INTC  -0.090473 -0.312338 -0.154615  0.142484  0.101155  0.105119  0.058152   \n",
      "JNJ    0.298053  0.623830  0.655060  0.103508 -0.176918  0.173224  0.438570   \n",
      "JPM    0.429889  0.259403  0.280811  0.508163  0.495307  0.199856  0.247499   \n",
      "KO     0.228869  0.690989  0.646189  0.062501 -0.534283  0.326623  0.434885   \n",
      "MCD   -0.005746  0.360638  0.512907 -0.089979 -0.417434  0.027544  0.332014   \n",
      "MRK    0.496644  0.779375  0.788139  0.263821 -0.651130  0.635438  0.692849   \n",
      "MSFT   0.791072  0.857057  0.828671  0.589669 -0.484958  0.927197  0.812328   \n",
      "NKE    0.823903  0.794280  0.722379  0.597369 -0.343813  0.937137  0.681442   \n",
      "PG     0.100381  0.565153  0.517176 -0.105076 -0.448733  0.113633  0.271444   \n",
      "TRV   -0.263335 -0.253580 -0.292635  0.013885  0.688647 -0.475782 -0.229018   \n",
      "UNH    0.691225  0.847925  0.874637  0.497398 -0.505109  0.805558  0.749245   \n",
      "V      0.829711  0.828862  0.834389  0.626402 -0.395389  0.944966  0.785237   \n",
      "VZ     0.393530  0.738526  0.758415  0.143198 -0.618430  0.437635  0.552520   \n",
      "WBA    0.150131  0.557240  0.602161  0.075403 -0.322999  0.078530  0.414416   \n",
      "WMT    0.208652  0.436762  0.414370  0.103945 -0.049870 -0.037777  0.163584   \n",
      "\n",
      "            CVX       DIS  DOW  ...       MRK      MSFT       NKE        PG  \\\n",
      "AAPL   0.220039  0.596259  NaN  ...  0.496644  0.791072  0.823903  0.100381   \n",
      "AMGN   0.069271  0.837109  NaN  ...  0.779375  0.857057  0.794280  0.565153   \n",
      "AXP    0.279265  0.759066  NaN  ...  0.788139  0.828671  0.722379  0.517176   \n",
      "BA     0.223361  0.363139  NaN  ...  0.263821  0.589669  0.597369 -0.105076   \n",
      "CAT    0.408116 -0.365207  NaN  ... -0.651130 -0.484958 -0.343813 -0.448733   \n",
      "CRM    0.178647  0.537427  NaN  ...  0.635438  0.927197  0.937137  0.113633   \n",
      "CSCO   0.004848  0.488566  NaN  ...  0.692849  0.812328  0.681442  0.271444   \n",
      "CVX    1.000000  0.111866  NaN  ... -0.031712  0.107509  0.193925 -0.204802   \n",
      "DIS    0.111866  1.000000  NaN  ...  0.781370  0.718066  0.608698  0.750756   \n",
      "DOW         NaN       NaN  NaN  ...       NaN       NaN       NaN       NaN   \n",
      "GOOGL  0.416811  0.427404  NaN  ...  0.117619  0.485384  0.619149 -0.049046   \n",
      "GS     0.132640 -0.388811  NaN  ... -0.795758 -0.541535 -0.388269 -0.532870   \n",
      "HD     0.559806  0.326913  NaN  ...  0.082412  0.412918  0.617202 -0.118886   \n",
      "HON    0.304197  0.616746  NaN  ...  0.332168  0.538399  0.572814  0.241753   \n",
      "IBM    0.293888 -0.315744  NaN  ... -0.700991 -0.421255 -0.230643 -0.494452   \n",
      "INTC   0.329290 -0.490834  NaN  ... -0.271777 -0.026979 -0.007189 -0.618575   \n",
      "JNJ   -0.026128  0.764792  NaN  ...  0.644011  0.409531  0.255356  0.844841   \n",
      "JPM    0.249694  0.193014  NaN  ... -0.160441  0.175817  0.252915 -0.182094   \n",
      "KO    -0.098618  0.812337  NaN  ...  0.862587  0.585290  0.414843  0.928343   \n",
      "MCD   -0.019799  0.570376  NaN  ...  0.713984  0.307588  0.090235  0.833615   \n",
      "MRK   -0.031712  0.781370  NaN  ...  1.000000  0.833615  0.674475  0.732752   \n",
      "MSFT   0.107509  0.718066  NaN  ...  0.833615  1.000000  0.918523  0.374738   \n",
      "NKE    0.193925  0.608698  NaN  ...  0.674475  0.918523  1.000000  0.209887   \n",
      "PG    -0.204802  0.750756  NaN  ...  0.732752  0.374738  0.209887  1.000000   \n",
      "TRV   -0.038352 -0.273261  NaN  ... -0.554843 -0.480381 -0.423425 -0.211713   \n",
      "UNH    0.211981  0.784920  NaN  ...  0.900168  0.929430  0.836355  0.519508   \n",
      "V      0.233041  0.689228  NaN  ...  0.770888  0.974117  0.946290  0.299030   \n",
      "VZ    -0.086927  0.838635  NaN  ...  0.926275  0.688031  0.520665  0.864230   \n",
      "WBA   -0.134014  0.740616  NaN  ...  0.683589  0.372505  0.143340  0.876131   \n",
      "WMT   -0.113158  0.660160  NaN  ...  0.425812  0.183105  0.116663  0.736752   \n",
      "\n",
      "            TRV       UNH         V        VZ       WBA       WMT  \n",
      "AAPL  -0.263335  0.691225  0.829711  0.393530  0.150131  0.208652  \n",
      "AMGN  -0.253580  0.847925  0.828862  0.738526  0.557240  0.436762  \n",
      "AXP   -0.292635  0.874637  0.834389  0.758415  0.602161  0.414370  \n",
      "BA     0.013885  0.497398  0.626402  0.143198  0.075403  0.103945  \n",
      "CAT    0.688647 -0.505109 -0.395389 -0.618430 -0.322999 -0.049870  \n",
      "CRM   -0.475782  0.805558  0.944966  0.437635  0.078530 -0.037777  \n",
      "CSCO  -0.229018  0.749245  0.785237  0.552520  0.414416  0.163584  \n",
      "CVX   -0.038352  0.211981  0.233041 -0.086927 -0.134014 -0.113158  \n",
      "DIS   -0.273261  0.784920  0.689228  0.838635  0.740616  0.660160  \n",
      "DOW         NaN       NaN       NaN       NaN       NaN       NaN  \n",
      "GOOGL  0.049372  0.398732  0.561428  0.071883 -0.108265  0.076834  \n",
      "GS     0.800095 -0.616441 -0.466245 -0.666517 -0.387955 -0.022852  \n",
      "HD     0.052100  0.381490  0.546841  0.029784 -0.124980  0.157943  \n",
      "HON    0.252941  0.498241  0.579636  0.364340  0.362186  0.521789  \n",
      "IBM    0.710867 -0.500810 -0.337710 -0.630388 -0.423726 -0.065050  \n",
      "INTC  -0.054335 -0.087666  0.018915 -0.458857 -0.533667 -0.751048  \n",
      "JNJ    0.067235  0.528627  0.360021  0.794618  0.899023  0.814888  \n",
      "JPM    0.615981  0.073720  0.224427 -0.097422 -0.006779  0.194655  \n",
      "KO    -0.272758  0.707121  0.504653  0.935172  0.847908  0.646980  \n",
      "MCD   -0.269685  0.519268  0.252733  0.783685  0.833183  0.572326  \n",
      "MRK   -0.554843  0.900168  0.770888  0.926275  0.683589  0.425812  \n",
      "MSFT  -0.480381  0.929430  0.974117  0.688031  0.372505  0.183105  \n",
      "NKE   -0.423425  0.836355  0.946290  0.520665  0.143340  0.116663  \n",
      "PG    -0.211713  0.519508  0.299030  0.864230  0.876131  0.736752  \n",
      "TRV    1.000000 -0.490180 -0.466319 -0.381307 -0.035420  0.217564  \n",
      "UNH   -0.490180  1.000000  0.919887  0.803357  0.533749  0.325191  \n",
      "V     -0.466319  0.919887  1.000000  0.621862  0.296615  0.170458  \n",
      "VZ    -0.381307  0.803357  0.621862  1.000000  0.826745  0.649940  \n",
      "WBA   -0.035420  0.533749  0.296615  0.826745  1.000000  0.776640  \n",
      "WMT    0.217564  0.325191  0.170458  0.649940  0.776640  1.000000  \n",
      "\n",
      "[30 rows x 30 columns]\n",
      "--------------------------------------------------\n",
      "Korelasyon Matrisi 2019:\n",
      "           AAPL      AMGN       AXP        BA       CAT       CRM      CSCO  \\\n",
      "AAPL   1.000000  0.781417  0.649006 -0.233551  0.578253  0.307536 -0.186854   \n",
      "AMGN   0.781417  1.000000  0.208128 -0.206536  0.521356  0.166945 -0.632328   \n",
      "AXP    0.649006  0.208128  1.000000 -0.338030  0.154216  0.151304  0.428391   \n",
      "BA    -0.233551 -0.206536 -0.338030  1.000000  0.138270  0.415560  0.076484   \n",
      "CAT    0.578253  0.521356  0.154216  0.138270  1.000000  0.649664 -0.038380   \n",
      "CRM    0.307536  0.166945  0.151304  0.415560  0.649664  1.000000  0.261147   \n",
      "CSCO  -0.186854 -0.632328  0.428391  0.076484 -0.038380  0.261147  1.000000   \n",
      "CVX    0.379393  0.016317  0.661812  0.133597  0.325687  0.452544  0.606058   \n",
      "DIS    0.731870  0.382822  0.888749 -0.402689  0.257175  0.134392  0.189439   \n",
      "DOW    0.429767  0.288711 -0.088835  0.149736  0.861709  0.719695  0.077667   \n",
      "GOOGL  0.885847  0.741620  0.425279 -0.095802  0.621190  0.422891 -0.208662   \n",
      "GS     0.874965  0.656307  0.654438 -0.118763  0.643116  0.391485 -0.049752   \n",
      "HD     0.821431  0.518766  0.688562 -0.175436  0.257085  0.018937 -0.073614   \n",
      "HON    0.790817  0.328752  0.905571 -0.216048  0.423818  0.359505  0.351441   \n",
      "IBM    0.442933  0.008067  0.636525  0.241757  0.213201  0.322839  0.506866   \n",
      "INTC   0.713974  0.669295  0.148850  0.173409  0.843820  0.577424 -0.180412   \n",
      "JNJ    0.417631  0.219532  0.414597  0.026553  0.485615  0.554300  0.340043   \n",
      "JPM    0.956120  0.752155  0.614062 -0.267758  0.649454  0.315530 -0.206667   \n",
      "KO     0.761094  0.567859  0.726782 -0.413514  0.065451 -0.157009 -0.195080   \n",
      "MCD    0.404924  0.073963  0.800905 -0.369262 -0.291050 -0.277042  0.280374   \n",
      "MRK    0.813387  0.679090  0.727281 -0.236737  0.259312  0.153716 -0.080750   \n",
      "MSFT   0.917713  0.611413  0.862386 -0.356754  0.357083  0.173595  0.018739   \n",
      "NKE    0.883419  0.683660  0.505702  0.016667  0.616612  0.403721 -0.139659   \n",
      "PG     0.880776  0.604716  0.784708 -0.284669  0.218181  0.042272 -0.090122   \n",
      "TRV    0.257986 -0.192088  0.826591 -0.182280 -0.255246 -0.042218  0.607262   \n",
      "UNH    0.393019  0.578373  0.119661 -0.136984  0.602909  0.392247 -0.283076   \n",
      "V      0.831521  0.485298  0.917107 -0.349533  0.222431  0.116442  0.141228   \n",
      "VZ     0.842781  0.699608  0.455431 -0.245315  0.456542  0.162887 -0.229833   \n",
      "WBA   -0.290049  0.167994 -0.707343  0.361731  0.290212  0.135323 -0.533678   \n",
      "WMT    0.879390  0.637278  0.743673 -0.268547  0.298496  0.024849 -0.154977   \n",
      "\n",
      "            CVX       DIS       DOW  ...       MRK      MSFT       NKE  \\\n",
      "AAPL   0.379393  0.731870  0.429767  ...  0.813387  0.917713  0.883419   \n",
      "AMGN   0.016317  0.382822  0.288711  ...  0.679090  0.611413  0.683660   \n",
      "AXP    0.661812  0.888749 -0.088835  ...  0.727281  0.862386  0.505702   \n",
      "BA     0.133597 -0.402689  0.149736  ... -0.236737 -0.356754  0.016667   \n",
      "CAT    0.325687  0.257175  0.861709  ...  0.259312  0.357083  0.616612   \n",
      "CRM    0.452544  0.134392  0.719695  ...  0.153716  0.173595  0.403721   \n",
      "CSCO   0.606058  0.189439  0.077667  ... -0.080750  0.018739 -0.139659   \n",
      "CVX    1.000000  0.427000  0.254810  ...  0.494672  0.481302  0.368327   \n",
      "DIS    0.427000  1.000000  0.139810  ...  0.677117  0.899593  0.556550   \n",
      "DOW    0.254810  0.139810  1.000000  ... -0.056956  0.167663  0.428787   \n",
      "GOOGL  0.338086  0.503344  0.488853  ...  0.627073  0.722054  0.833422   \n",
      "GS     0.491132  0.699454  0.433436  ...  0.681621  0.828427  0.822784   \n",
      "HD     0.383368  0.703679 -0.075147  ...  0.717092  0.862232  0.707089   \n",
      "HON    0.650492  0.881713  0.489208  ...  0.706411  0.893533  0.648821   \n",
      "IBM    0.726382  0.448768  0.004472  ...  0.457817  0.531626  0.506632   \n",
      "INTC   0.320152  0.232165  0.701529  ...  0.412613  0.455805  0.745141   \n",
      "JNJ    0.444837  0.403554  0.551011  ...  0.443736  0.391853  0.488376   \n",
      "JPM    0.308403  0.754667  0.505310  ...  0.711676  0.878832  0.862881   \n",
      "KO     0.245900  0.782791 -0.270937  ...  0.773259  0.877113  0.600181   \n",
      "MCD    0.381065  0.719950 -0.729100  ...  0.575574  0.691171  0.268081   \n",
      "MRK    0.494672  0.677117 -0.056956  ...  1.000000  0.866448  0.703634   \n",
      "MSFT   0.481302  0.899593  0.167663  ...  0.866448  1.000000  0.760876   \n",
      "NKE    0.368327  0.556550  0.428787  ...  0.703634  0.760876  1.000000   \n",
      "PG     0.421683  0.799736 -0.108421  ...  0.856112  0.948333  0.741269   \n",
      "TRV    0.577471  0.681193 -0.568647  ...  0.477374  0.573779  0.186030   \n",
      "UNH    0.084440  0.214336  0.508260  ...  0.324556  0.263322  0.391087   \n",
      "V      0.548263  0.895593 -0.073174  ...  0.851949  0.971087  0.673855   \n",
      "VZ     0.292206  0.531348  0.305379  ...  0.708758  0.769772  0.791699   \n",
      "WBA   -0.404466 -0.599300  0.522731  ... -0.391603 -0.534317 -0.140084   \n",
      "WMT    0.364436  0.796188 -0.024084  ...  0.816101  0.936544  0.766740   \n",
      "\n",
      "             PG       TRV       UNH         V        VZ       WBA       WMT  \n",
      "AAPL   0.880776  0.257986  0.393019  0.831521  0.842781 -0.290049  0.879390  \n",
      "AMGN   0.604716 -0.192088  0.578373  0.485298  0.699608  0.167994  0.637278  \n",
      "AXP    0.784708  0.826591  0.119661  0.917107  0.455431 -0.707343  0.743673  \n",
      "BA    -0.284669 -0.182280 -0.136984 -0.349533 -0.245315  0.361731 -0.268547  \n",
      "CAT    0.218181 -0.255246  0.602909  0.222431  0.456542  0.290212  0.298496  \n",
      "CRM    0.042272 -0.042218  0.392247  0.116442  0.162887  0.135323  0.024849  \n",
      "CSCO  -0.090122  0.607262 -0.283076  0.141228 -0.229833 -0.533678 -0.154977  \n",
      "CVX    0.421683  0.577471  0.084440  0.548263  0.292206 -0.404466  0.364436  \n",
      "DIS    0.799736  0.681193  0.214336  0.895593  0.531348 -0.599300  0.796188  \n",
      "DOW   -0.108421 -0.568647  0.508260 -0.073174  0.305379  0.522731 -0.024084  \n",
      "GOOGL  0.703999  0.041106  0.351656  0.627527  0.770198 -0.152343  0.661064  \n",
      "GS     0.789481  0.278745  0.467834  0.769000  0.676305 -0.182034  0.793629  \n",
      "HD     0.929282  0.494755 -0.018775  0.871207  0.756182 -0.472175  0.938627  \n",
      "HON    0.794716  0.669599  0.177950  0.887188  0.609192 -0.607420  0.773024  \n",
      "IBM    0.567583  0.625161 -0.107772  0.613804  0.324206 -0.453282  0.503435  \n",
      "INTC   0.410965 -0.237290  0.417398  0.347287  0.613088  0.168772  0.433269  \n",
      "JNJ    0.203349  0.256660  0.393114  0.314940  0.307788 -0.199556  0.181681  \n",
      "JPM    0.813536  0.196693  0.483306  0.768414  0.806287 -0.200129  0.845381  \n",
      "KO     0.928756  0.532091  0.136035  0.880978  0.656496 -0.467376  0.923220  \n",
      "MCD    0.732636  0.876032 -0.279715  0.807239  0.357883 -0.780823  0.683597  \n",
      "MRK    0.856112  0.477374  0.324556  0.851949  0.708758 -0.391603  0.816101  \n",
      "MSFT   0.948333  0.573779  0.263322  0.971087  0.769772 -0.534317  0.936544  \n",
      "NKE    0.741269  0.186030  0.391087  0.673855  0.791699 -0.140084  0.766740  \n",
      "PG     1.000000  0.550607  0.128540  0.945504  0.773420 -0.523266  0.961173  \n",
      "TRV    0.550607  1.000000 -0.294709  0.701836  0.208854 -0.829305  0.490619  \n",
      "UNH    0.128540 -0.294709  1.000000  0.132222  0.192659  0.450053  0.184091  \n",
      "V      0.945504  0.701836  0.132222  1.000000  0.691865 -0.642469  0.914037  \n",
      "VZ     0.773420  0.208854  0.192659  0.691865  1.000000 -0.275072  0.795311  \n",
      "WBA   -0.523266 -0.829305  0.450053 -0.642469 -0.275072  1.000000 -0.416363  \n",
      "WMT    0.961173  0.490619  0.184091  0.914037  0.795311 -0.416363  1.000000  \n",
      "\n",
      "[30 rows x 30 columns]\n",
      "--------------------------------------------------\n",
      "Korelasyon Matrisi 2020:\n",
      "           AAPL      AMGN       AXP        BA       CAT       CRM      CSCO  \\\n",
      "AAPL   1.000000  0.567257  0.249419 -0.103437  0.851767  0.901071 -0.005983   \n",
      "AMGN   0.567257  1.000000  0.042693 -0.115483  0.381231  0.547559  0.349373   \n",
      "AXP    0.249419  0.042693  1.000000  0.894164  0.568289  0.306934  0.479522   \n",
      "BA    -0.103437 -0.115483  0.894164  1.000000  0.235313 -0.033002  0.513238   \n",
      "CAT    0.851767  0.381231  0.568289  0.235313  1.000000  0.818207  0.102158   \n",
      "CRM    0.901071  0.547559  0.306934 -0.033002  0.818207  1.000000 -0.136023   \n",
      "CSCO  -0.005983  0.349373  0.479522  0.513238  0.102158 -0.136023  1.000000   \n",
      "CVX   -0.200480  0.077960  0.710906  0.808586  0.058586 -0.207467  0.780951   \n",
      "DIS    0.629741  0.249858  0.816241  0.584769  0.822274  0.545089  0.423072   \n",
      "DOW    0.771982  0.454175  0.737359  0.449567  0.937257  0.780140  0.297360   \n",
      "GOOGL  0.863381  0.492214  0.538266  0.212363  0.892393  0.796314  0.269498   \n",
      "GS     0.500902  0.305645  0.896181  0.722739  0.729256  0.449458  0.605149   \n",
      "HD     0.911711  0.670196  0.286367 -0.034280  0.760916  0.879830  0.127794   \n",
      "HON    0.682529  0.182560  0.785038  0.506211  0.912813  0.657983  0.189070   \n",
      "IBM    0.099788  0.224015  0.812102  0.796539  0.290016  0.145160  0.656275   \n",
      "INTC  -0.598438 -0.065456  0.225430  0.429893 -0.453770 -0.507934  0.557915   \n",
      "JNJ    0.588781  0.669610  0.402110  0.166539  0.548801  0.503824  0.466478   \n",
      "JPM    0.152645 -0.039258  0.967409  0.917469  0.519232  0.191422  0.476339   \n",
      "KO     0.257886  0.004997  0.927496  0.838494  0.567135  0.344793  0.282314   \n",
      "MCD    0.756918  0.453355  0.637831  0.369361  0.830959  0.841090  0.095389   \n",
      "MRK    0.350362  0.484990  0.622933  0.534575  0.469627  0.381700  0.397478   \n",
      "MSFT   0.933725  0.685689  0.137533 -0.189370  0.738939  0.843311  0.122456   \n",
      "NKE    0.894325  0.401243  0.477443  0.116207  0.958749  0.870876  0.017666   \n",
      "PG     0.921549  0.538068  0.360222  0.030823  0.882548  0.914690 -0.070250   \n",
      "TRV    0.450248  0.134007  0.893683  0.757636  0.746019  0.433390  0.428967   \n",
      "UNH    0.861572  0.567292  0.419736  0.068758  0.861343  0.783583  0.216542   \n",
      "V      0.743829  0.560060  0.710592  0.426893  0.769061  0.738650  0.447469   \n",
      "VZ     0.752460  0.498849  0.566417  0.251833  0.843554  0.745166  0.156064   \n",
      "WBA   -0.579321 -0.362359  0.516555  0.762245 -0.260563 -0.553319  0.445323   \n",
      "WMT    0.879297  0.477477  0.070567 -0.303772  0.804635  0.826071 -0.172640   \n",
      "\n",
      "            CVX       DIS       DOW  ...       MRK      MSFT       NKE  \\\n",
      "AAPL  -0.200480  0.629741  0.771982  ...  0.350362  0.933725  0.894325   \n",
      "AMGN   0.077960  0.249858  0.454175  ...  0.484990  0.685689  0.401243   \n",
      "AXP    0.710906  0.816241  0.737359  ...  0.622933  0.137533  0.477443   \n",
      "BA     0.808586  0.584769  0.449567  ...  0.534575 -0.189370  0.116207   \n",
      "CAT    0.058586  0.822274  0.937257  ...  0.469627  0.738939  0.958749   \n",
      "CRM   -0.207467  0.545089  0.780140  ...  0.381700  0.843311  0.870876   \n",
      "CSCO   0.780951  0.423072  0.297360  ...  0.397478  0.122456  0.017666   \n",
      "CVX    1.000000  0.472124  0.308867  ...  0.549274 -0.174688 -0.042485   \n",
      "DIS    0.472124  1.000000  0.889706  ...  0.613224  0.496730  0.769812   \n",
      "DOW    0.308867  0.889706  1.000000  ...  0.628035  0.672566  0.891467   \n",
      "GOOGL  0.177641  0.796708  0.881129  ...  0.426310  0.842580  0.880725   \n",
      "GS     0.651979  0.923064  0.862843  ...  0.649713  0.434738  0.658148   \n",
      "HD    -0.047272  0.548765  0.756187  ...  0.393703  0.928573  0.816374   \n",
      "HON    0.307157  0.918832  0.910941  ...  0.532376  0.534479  0.861086   \n",
      "IBM    0.788640  0.595700  0.515840  ...  0.631259  0.124171  0.233265   \n",
      "INTC   0.619291 -0.134462 -0.248593  ...  0.086911 -0.428820 -0.461005   \n",
      "JNJ    0.361163  0.604136  0.609302  ...  0.642068  0.642225  0.576079   \n",
      "JPM    0.743962  0.797711  0.675247  ...  0.604418  0.028802  0.399511   \n",
      "KO     0.587011  0.761267  0.690743  ...  0.638812  0.127205  0.483713   \n",
      "MCD    0.170393  0.717724  0.876338  ...  0.638934  0.672040  0.841520   \n",
      "MRK    0.549274  0.613224  0.628035  ...  1.000000  0.251632  0.414268   \n",
      "MSFT  -0.174688  0.496730  0.672566  ...  0.251632  1.000000  0.796695   \n",
      "NKE   -0.042485  0.769812  0.891467  ...  0.414268  0.796695  1.000000   \n",
      "PG    -0.149657  0.623429  0.810861  ...  0.496591  0.830792  0.891557   \n",
      "TRV    0.568124  0.864717  0.836635  ...  0.578528  0.352343  0.637037   \n",
      "UNH    0.102896  0.702387  0.816511  ...  0.447930  0.857557  0.887439   \n",
      "V      0.404091  0.809339  0.881741  ...  0.612308  0.732509  0.771057   \n",
      "VZ     0.195499  0.739849  0.849464  ...  0.725449  0.646363  0.822475   \n",
      "WBA    0.719650  0.144508 -0.079492  ...  0.265474 -0.639665 -0.398084   \n",
      "WMT   -0.347616  0.472058  0.643171  ...  0.211118  0.834949  0.847011   \n",
      "\n",
      "             PG       TRV       UNH         V        VZ       WBA       WMT  \n",
      "AAPL   0.921549  0.450248  0.861572  0.743829  0.752460 -0.579321  0.879297  \n",
      "AMGN   0.538068  0.134007  0.567292  0.560060  0.498849 -0.362359  0.477477  \n",
      "AXP    0.360222  0.893683  0.419736  0.710592  0.566417  0.516555  0.070567  \n",
      "BA     0.030823  0.757636  0.068758  0.426893  0.251833  0.762245 -0.303772  \n",
      "CAT    0.882548  0.746019  0.861343  0.769061  0.843554 -0.260563  0.804635  \n",
      "CRM    0.914690  0.433390  0.783583  0.738650  0.745166 -0.553319  0.826071  \n",
      "CSCO  -0.070250  0.428967  0.216542  0.447469  0.156064  0.445323 -0.172640  \n",
      "CVX   -0.149657  0.568124  0.102896  0.404091  0.195499  0.719650 -0.347616  \n",
      "DIS    0.623429  0.864717  0.702387  0.809339  0.739849  0.144508  0.472058  \n",
      "DOW    0.810861  0.836635  0.816511  0.881741  0.849464 -0.079492  0.643171  \n",
      "GOOGL  0.818665  0.717335  0.924487  0.871502  0.783043 -0.281614  0.770338  \n",
      "GS     0.525913  0.919543  0.658193  0.832998  0.679538  0.289070  0.312796  \n",
      "HD     0.866140  0.447915  0.864888  0.823283  0.709950 -0.550904  0.757040  \n",
      "HON    0.733939  0.884428  0.776458  0.782585  0.808875  0.036553  0.611160  \n",
      "IBM    0.210140  0.647908  0.294596  0.635961  0.445838  0.492748 -0.092920  \n",
      "INTC  -0.559711 -0.024938 -0.350345 -0.056913 -0.321457  0.569957 -0.630671  \n",
      "JNJ    0.607592  0.434406  0.727060  0.725366  0.748323 -0.145271  0.540808  \n",
      "JPM    0.279592  0.892473  0.343360  0.592072  0.504523  0.612919  0.007723  \n",
      "KO     0.442765  0.859057  0.408426  0.642133  0.613853  0.446517  0.134507  \n",
      "MCD    0.871140  0.698089  0.766326  0.835601  0.835315 -0.206330  0.615992  \n",
      "MRK    0.496591  0.578528  0.447930  0.612308  0.725449  0.265474  0.211118  \n",
      "MSFT   0.830792  0.352343  0.857557  0.732509  0.646363 -0.639665  0.834949  \n",
      "NKE    0.891557  0.637037  0.887439  0.771057  0.822475 -0.398084  0.847011  \n",
      "PG     1.000000  0.531708  0.839410  0.724630  0.860687 -0.449658  0.856663  \n",
      "TRV    0.531708  1.000000  0.611429  0.736026  0.648093  0.333325  0.295946  \n",
      "UNH    0.839410  0.611429  1.000000  0.813592  0.806944 -0.360967  0.818862  \n",
      "V      0.724630  0.736026  0.813592  1.000000  0.761402 -0.098498  0.532022  \n",
      "VZ     0.860687  0.648093  0.806944  0.761402  1.000000 -0.164422  0.731555  \n",
      "WBA   -0.449658  0.333325 -0.360967 -0.098498 -0.164422  1.000000 -0.655463  \n",
      "WMT    0.856663  0.295946  0.818862  0.532022  0.731555 -0.655463  1.000000  \n",
      "\n",
      "[30 rows x 30 columns]\n",
      "--------------------------------------------------\n",
      "Korelasyon Matrisi 2021:\n",
      "           AAPL      AMGN       AXP        BA       CAT       CRM      CSCO  \\\n",
      "AAPL   1.000000 -0.547025  0.494862 -0.613445 -0.438464  0.670900  0.761728   \n",
      "AMGN  -0.547025  1.000000 -0.420677  0.491537  0.526566 -0.770053 -0.416735   \n",
      "AXP    0.494862 -0.420677  1.000000  0.098275  0.133074  0.691253  0.813567   \n",
      "BA    -0.613445  0.491537  0.098275  1.000000  0.747025 -0.378522 -0.149585   \n",
      "CAT   -0.438464  0.526566  0.133074  0.747025  1.000000 -0.404437  0.027003   \n",
      "CRM    0.670900 -0.770053  0.691253 -0.378522 -0.404437  1.000000  0.647806   \n",
      "CSCO   0.761728 -0.416735  0.813567 -0.149585  0.027003  0.647806  1.000000   \n",
      "CVX    0.496669 -0.441840  0.688061  0.029193  0.227402  0.510871  0.648803   \n",
      "DIS   -0.761355  0.447715 -0.344251  0.575122  0.371299 -0.526216 -0.526454   \n",
      "DOW   -0.499916  0.462882  0.235448  0.762764  0.880432 -0.328581  0.047485   \n",
      "GOOGL  0.797483 -0.620094  0.867224 -0.254389 -0.132609  0.826446  0.930683   \n",
      "GS     0.597725 -0.536792  0.918242 -0.038635  0.102104  0.712788  0.893436   \n",
      "HD     0.840939 -0.524795  0.695709 -0.327227 -0.090324  0.710576  0.838366   \n",
      "HON    0.023510  0.142225  0.642337  0.461062  0.521676  0.199819  0.499433   \n",
      "IBM    0.076420  0.187971  0.610786  0.393305  0.432151  0.061199  0.557790   \n",
      "INTC  -0.686225  0.599295 -0.468168  0.649736  0.486789 -0.644764 -0.528221   \n",
      "JNJ    0.475970  0.087592  0.458288 -0.106093  0.149316  0.205128  0.653636   \n",
      "JPM    0.377322 -0.505089  0.870133  0.133298  0.285312  0.645400  0.747561   \n",
      "KO     0.672193 -0.276970  0.831375 -0.053191  0.158175  0.552427  0.930006   \n",
      "MCD    0.810684 -0.473947  0.791142 -0.212580 -0.038739  0.692601  0.925420   \n",
      "MRK    0.469053 -0.417579  0.569503 -0.260581 -0.307841  0.725390  0.486950   \n",
      "MSFT   0.890898 -0.666442  0.758025 -0.399840 -0.261510  0.859728  0.876887   \n",
      "NKE    0.822706 -0.601006  0.607266 -0.458029 -0.397203  0.724800  0.700865   \n",
      "PG     0.895085 -0.507921  0.597940 -0.451168 -0.229242  0.628736  0.869225   \n",
      "TRV    0.362751 -0.299891  0.756873  0.151973  0.404125  0.477907  0.753970   \n",
      "UNH    0.797994 -0.418979  0.769587 -0.266932  0.009664  0.640204  0.906096   \n",
      "V     -0.067370  0.271855  0.547441  0.450994  0.376238 -0.020170  0.329019   \n",
      "VZ    -0.668384  0.804553 -0.273517  0.566876  0.567733 -0.667784 -0.368384   \n",
      "WBA   -0.275146  0.427485  0.053580  0.590210  0.742711 -0.260731  0.138820   \n",
      "WMT    0.516330 -0.295871  0.309394 -0.415212 -0.305564  0.572128  0.469563   \n",
      "\n",
      "            CVX       DIS       DOW  ...       MRK      MSFT       NKE  \\\n",
      "AAPL   0.496669 -0.761355 -0.499916  ...  0.469053  0.890898  0.822706   \n",
      "AMGN  -0.441840  0.447715  0.462882  ... -0.417579 -0.666442 -0.601006   \n",
      "AXP    0.688061 -0.344251  0.235448  ...  0.569503  0.758025  0.607266   \n",
      "BA     0.029193  0.575122  0.762764  ... -0.260581 -0.399840 -0.458029   \n",
      "CAT    0.227402  0.371299  0.880432  ... -0.307841 -0.261510 -0.397203   \n",
      "CRM    0.510871 -0.526216 -0.328581  ...  0.725390  0.859728  0.724800   \n",
      "CSCO   0.648803 -0.526454  0.047485  ...  0.486950  0.876887  0.700865   \n",
      "CVX    1.000000 -0.544525  0.102357  ...  0.415543  0.686039  0.404375   \n",
      "DIS   -0.544525  1.000000  0.423694  ... -0.490296 -0.685576 -0.539294   \n",
      "DOW    0.102357  0.423694  1.000000  ... -0.195753 -0.290923 -0.353433   \n",
      "GOOGL  0.651471 -0.553411 -0.087782  ...  0.559538  0.955933  0.800082   \n",
      "GS     0.672894 -0.388203  0.199078  ...  0.526759  0.823314  0.698715   \n",
      "HD     0.789302 -0.783783 -0.195647  ...  0.540957  0.919304  0.693554   \n",
      "HON    0.175412  0.146930  0.653845  ...  0.269179  0.256350  0.248530   \n",
      "IBM    0.250626 -0.036914  0.609475  ...  0.146714  0.200523  0.073078   \n",
      "INTC  -0.330872  0.727421  0.371360  ... -0.645744 -0.674398 -0.684870   \n",
      "JNJ    0.110324 -0.231337  0.225076  ...  0.202680  0.439491  0.508815   \n",
      "JPM    0.785038 -0.298081  0.325174  ...  0.484644  0.683967  0.457381   \n",
      "KO     0.633351 -0.482470  0.172648  ...  0.494134  0.796898  0.651568   \n",
      "MCD    0.766979 -0.680165 -0.087989  ...  0.545102  0.910382  0.673719   \n",
      "MRK    0.415543 -0.490296 -0.195753  ...  1.000000  0.619238  0.601917   \n",
      "MSFT   0.686039 -0.685576 -0.290923  ...  0.619238  1.000000  0.846398   \n",
      "NKE    0.404375 -0.539294 -0.353433  ...  0.601917  0.846398  1.000000   \n",
      "PG     0.616120 -0.763964 -0.273331  ...  0.535263  0.876579  0.755308   \n",
      "TRV    0.664868 -0.175861  0.399728  ...  0.344225  0.603861  0.382441   \n",
      "UNH    0.770304 -0.715097 -0.044786  ...  0.588293  0.882880  0.693015   \n",
      "V      0.010172  0.302177  0.556830  ...  0.054185  0.044318  0.094865   \n",
      "VZ    -0.452767  0.599569  0.632282  ... -0.314514 -0.672877 -0.592242   \n",
      "WBA    0.244651  0.194814  0.638698  ... -0.264487 -0.151753 -0.442956   \n",
      "WMT   -0.011877 -0.361409 -0.175547  ...  0.580963  0.505501  0.601125   \n",
      "\n",
      "             PG       TRV       UNH         V        VZ       WBA       WMT  \n",
      "AAPL   0.895085  0.362751  0.797994 -0.067370 -0.668384 -0.275146  0.516330  \n",
      "AMGN  -0.507921 -0.299891 -0.418979  0.271855  0.804553  0.427485 -0.295871  \n",
      "AXP    0.597940  0.756873  0.769587  0.547441 -0.273517  0.053580  0.309394  \n",
      "BA    -0.451168  0.151973 -0.266932  0.450994  0.566876  0.590210 -0.415212  \n",
      "CAT   -0.229242  0.404125  0.009664  0.376238  0.567733  0.742711 -0.305564  \n",
      "CRM    0.628736  0.477907  0.640204 -0.020170 -0.667784 -0.260731  0.572128  \n",
      "CSCO   0.869225  0.753970  0.906096  0.329019 -0.368384  0.138820  0.469563  \n",
      "CVX    0.616120  0.664868  0.770304  0.010172 -0.452767  0.244651 -0.011877  \n",
      "DIS   -0.763964 -0.175861 -0.715097  0.302177  0.599569  0.194814 -0.361409  \n",
      "DOW   -0.273331  0.399728 -0.044786  0.556830  0.632282  0.638698 -0.175547  \n",
      "GOOGL  0.823385  0.710593  0.864758  0.260133 -0.540519 -0.065006  0.494264  \n",
      "GS     0.696591  0.830450  0.814712  0.404748 -0.372394  0.072786  0.436409  \n",
      "HD     0.898301  0.607170  0.930800 -0.024415 -0.561122  0.025148  0.411118  \n",
      "HON    0.210826  0.605916  0.381971  0.741934  0.374072  0.275270  0.359463  \n",
      "IBM    0.287367  0.509535  0.433429  0.780344  0.336833  0.396834  0.126946  \n",
      "INTC  -0.689911 -0.231439 -0.663887  0.027655  0.515221  0.456721 -0.610053  \n",
      "JNJ    0.516213  0.480576  0.532069  0.490768  0.055866  0.118520  0.554332  \n",
      "JPM    0.545577  0.868251  0.707613  0.291849 -0.306123  0.245196  0.229692  \n",
      "KO     0.819619  0.724663  0.900178  0.465285 -0.205722  0.134953  0.465905  \n",
      "MCD    0.911030  0.678851  0.944715  0.173491 -0.471605  0.083376  0.392006  \n",
      "MRK    0.535263  0.344225  0.588293  0.054185 -0.314514 -0.264487  0.580963  \n",
      "MSFT   0.876579  0.603861  0.882880  0.044318 -0.672877 -0.151753  0.505501  \n",
      "NKE    0.755308  0.382441  0.693015  0.094865 -0.592242 -0.442956  0.601125  \n",
      "PG     1.000000  0.526807  0.912945  0.013575 -0.503814 -0.083267  0.536264  \n",
      "TRV    0.526807  1.000000  0.689785  0.353150 -0.141186  0.391873  0.293130  \n",
      "UNH    0.912945  0.689785  1.000000  0.182883 -0.421888  0.066723  0.461140  \n",
      "V      0.013575  0.353150  0.182883  1.000000  0.436189  0.140170  0.067674  \n",
      "VZ    -0.503814 -0.141186 -0.421888  0.436189  1.000000  0.352358 -0.174357  \n",
      "WBA   -0.083267  0.391873  0.066723  0.140170  0.352358  1.000000 -0.188839  \n",
      "WMT    0.536264  0.293130  0.461140  0.067674 -0.174357 -0.188839  1.000000  \n",
      "\n",
      "[30 rows x 30 columns]\n",
      "--------------------------------------------------\n",
      "Korelasyon Matrisi 2022:\n",
      "           AAPL      AMGN       AXP        BA       CAT       CRM      CSCO  \\\n",
      "AAPL   1.000000 -0.454733  0.765405  0.617665 -0.024663  0.811433  0.689201   \n",
      "AMGN  -0.454733  1.000000 -0.387217 -0.140372  0.526779 -0.643270 -0.322472   \n",
      "AXP    0.765405 -0.387217  1.000000  0.670663  0.295086  0.725496  0.788205   \n",
      "BA     0.617665 -0.140372  0.670663  1.000000  0.439267  0.593666  0.859445   \n",
      "CAT   -0.024663  0.526779  0.295086  0.439267  1.000000 -0.021373  0.444531   \n",
      "CRM    0.811433 -0.643270  0.725496  0.593666 -0.021373  1.000000  0.752230   \n",
      "CSCO   0.689201 -0.322472  0.788205  0.859445  0.444531  0.752230  1.000000   \n",
      "CVX   -0.463518  0.759613 -0.254401 -0.358031  0.510268 -0.641829 -0.381168   \n",
      "DIS    0.849767 -0.638224  0.836555  0.709323  0.044327  0.900843  0.850673   \n",
      "DOW    0.365931 -0.274310  0.703361  0.195597  0.376755  0.488429  0.501558   \n",
      "GOOGL  0.818155 -0.679528  0.800209  0.561447 -0.054471  0.948760  0.751351   \n",
      "GS     0.351133  0.365462  0.311715  0.705909  0.592610  0.175109  0.526998   \n",
      "HD     0.555467 -0.161621  0.546309  0.847470  0.437458  0.610904  0.823836   \n",
      "HON    0.085195  0.572537  0.164444  0.503351  0.856891 -0.034121  0.417851   \n",
      "IBM   -0.372156  0.766765 -0.267219  0.001393  0.568820 -0.424974 -0.137349   \n",
      "INTC   0.663391 -0.598632  0.768968  0.505238  0.120630  0.885023  0.762201   \n",
      "JNJ   -0.272614  0.554321 -0.012003 -0.124317  0.533209 -0.248455 -0.039377   \n",
      "JPM    0.489761 -0.098172  0.667288  0.853764  0.571296  0.589847  0.859717   \n",
      "KO     0.051988  0.378201  0.155187  0.072278  0.352220 -0.131002  0.062162   \n",
      "MCD   -0.042729  0.698037 -0.170931  0.274103  0.436956 -0.308262 -0.014198   \n",
      "MRK   -0.655511  0.889687 -0.595280 -0.266469  0.400195 -0.801776 -0.466528   \n",
      "MSFT   0.858173 -0.572315  0.812831  0.654392  0.072783  0.922444  0.804535   \n",
      "NKE    0.715108 -0.503259  0.817329  0.789624  0.287751  0.843367  0.892066   \n",
      "PG     0.548007 -0.174986  0.724404  0.713744  0.467615  0.555808  0.802189   \n",
      "TRV   -0.159729  0.669134  0.197845  0.229973  0.805279 -0.258419  0.195943   \n",
      "UNH   -0.153782  0.692374 -0.338733 -0.215255  0.110626 -0.541607 -0.420023   \n",
      "V      0.634765 -0.012005  0.742640  0.713052  0.428708  0.589489  0.663130   \n",
      "VZ     0.508609 -0.625871  0.633388  0.332804 -0.062059  0.791453  0.560939   \n",
      "WBA    0.561938 -0.320460  0.741023  0.729550  0.463581  0.775995  0.898579   \n",
      "WMT    0.309918  0.312376  0.408923  0.471806  0.632582  0.046821  0.527834   \n",
      "\n",
      "            CVX       DIS       DOW  ...       MRK      MSFT       NKE  \\\n",
      "AAPL  -0.463518  0.849767  0.365931  ... -0.655511  0.858173  0.715108   \n",
      "AMGN   0.759613 -0.638224 -0.274310  ...  0.889687 -0.572315 -0.503259   \n",
      "AXP   -0.254401  0.836555  0.703361  ... -0.595280  0.812831  0.817329   \n",
      "BA    -0.358031  0.709323  0.195597  ... -0.266469  0.654392  0.789624   \n",
      "CAT    0.510268  0.044327  0.376755  ...  0.400195  0.072783  0.287751   \n",
      "CRM   -0.641829  0.900843  0.488429  ... -0.801776  0.922444  0.843367   \n",
      "CSCO  -0.381168  0.850673  0.501558  ... -0.466528  0.804535  0.892066   \n",
      "CVX    1.000000 -0.583484 -0.018126  ...  0.676791 -0.572239 -0.549347   \n",
      "DIS   -0.583484  1.000000  0.473767  ... -0.798146  0.881185  0.863387   \n",
      "DOW   -0.018126  0.473767  1.000000  ... -0.405235  0.597770  0.603857   \n",
      "GOOGL -0.616345  0.901660  0.598244  ... -0.831457  0.950703  0.850504   \n",
      "GS     0.078828  0.308296 -0.067225  ...  0.210159  0.230909  0.371724   \n",
      "HD    -0.416584  0.661007  0.242664  ... -0.233982  0.652092  0.789787   \n",
      "HON    0.368549  0.039060  0.132862  ...  0.475524  0.081485  0.251680   \n",
      "IBM    0.476365 -0.499147 -0.069805  ...  0.766459 -0.312336 -0.181825   \n",
      "INTC  -0.539945  0.822460  0.766361  ... -0.745727  0.880744  0.866464   \n",
      "JNJ    0.477960 -0.367141  0.339421  ...  0.524128 -0.110383 -0.068946   \n",
      "JPM   -0.266501  0.698437  0.351380  ... -0.233666  0.593416  0.787511   \n",
      "KO     0.265580 -0.159795  0.382978  ...  0.357215  0.125418  0.122934   \n",
      "MCD    0.283223 -0.263788 -0.359317  ...  0.658044 -0.225697 -0.105737   \n",
      "MRK    0.676791 -0.798146 -0.405235  ...  1.000000 -0.705534 -0.604262   \n",
      "MSFT  -0.572239  0.881185  0.597770  ... -0.705534  1.000000  0.895824   \n",
      "NKE   -0.549347  0.863387  0.603857  ... -0.604262  0.895824  1.000000   \n",
      "PG    -0.307022  0.598031  0.646829  ... -0.244574  0.722938  0.835322   \n",
      "TRV    0.698143 -0.148060  0.207956  ...  0.554661 -0.135414 -0.018671   \n",
      "UNH    0.580810 -0.524149 -0.421330  ...  0.654389 -0.433346 -0.552504   \n",
      "V     -0.189561  0.569086  0.495150  ... -0.177677  0.699578  0.728930   \n",
      "VZ    -0.554876  0.682239  0.704304  ... -0.729662  0.775497  0.745431   \n",
      "WBA   -0.393146  0.767318  0.664738  ... -0.475723  0.797050  0.905103   \n",
      "WMT    0.278006  0.222734  0.223542  ...  0.174578  0.179226  0.267011   \n",
      "\n",
      "             PG       TRV       UNH         V        VZ       WBA       WMT  \n",
      "AAPL   0.548007 -0.159729 -0.153782  0.634765  0.508609  0.561938  0.309918  \n",
      "AMGN  -0.174986  0.669134  0.692374 -0.012005 -0.625871 -0.320460  0.312376  \n",
      "AXP    0.724404  0.197845 -0.338733  0.742640  0.633388  0.741023  0.408923  \n",
      "BA     0.713744  0.229973 -0.215255  0.713052  0.332804  0.729550  0.471806  \n",
      "CAT    0.467615  0.805279  0.110626  0.428708 -0.062059  0.463581  0.632582  \n",
      "CRM    0.555808 -0.258419 -0.541607  0.589489  0.791453  0.775995  0.046821  \n",
      "CSCO   0.802189  0.195943 -0.420023  0.663130  0.560939  0.898579  0.527834  \n",
      "CVX   -0.307022  0.698143  0.580810 -0.189561 -0.554876 -0.393146  0.278006  \n",
      "DIS    0.598031 -0.148060 -0.524149  0.569086  0.682239  0.767318  0.222734  \n",
      "DOW    0.646829  0.207956 -0.421330  0.495150  0.704304  0.664738  0.223542  \n",
      "GOOGL  0.609490 -0.218332 -0.546405  0.586603  0.855907  0.764759  0.089003  \n",
      "GS     0.390661  0.410878  0.154175  0.541023 -0.187018  0.411241  0.491187  \n",
      "HD     0.690996  0.101527 -0.320034  0.661394  0.323193  0.779788  0.358455  \n",
      "HON    0.436177  0.640022  0.206616  0.450523 -0.239104  0.377518  0.569319  \n",
      "IBM    0.130689  0.574940  0.390110  0.216023 -0.333489 -0.024311  0.188605  \n",
      "INTC   0.706208 -0.142125 -0.636224  0.574765  0.916204  0.868802  0.122547  \n",
      "JNJ    0.296631  0.596477  0.365999  0.233538  0.033741  0.097938  0.354642  \n",
      "JPM    0.681650  0.325084 -0.383262  0.680691  0.363947  0.824938  0.418164  \n",
      "KO     0.528977  0.392696  0.367092  0.448698  0.131304  0.126154  0.285589  \n",
      "MCD    0.133083  0.419705  0.574935  0.314828 -0.505506 -0.099521  0.348591  \n",
      "MRK   -0.244574  0.554661  0.654389 -0.177677 -0.729662 -0.475723  0.174578  \n",
      "MSFT   0.722938 -0.135414 -0.433346  0.699578  0.775497  0.797050  0.179226  \n",
      "NKE    0.835322 -0.018671 -0.552504  0.728930  0.745431  0.905103  0.267011  \n",
      "PG     1.000000  0.268304 -0.266542  0.759663  0.596053  0.817204  0.509127  \n",
      "TRV    0.268304  1.000000  0.374941  0.311945 -0.226707  0.140560  0.586821  \n",
      "UNH   -0.266542  0.374941  1.000000 -0.067910 -0.619714 -0.573013  0.271304  \n",
      "V      0.759663  0.311945 -0.067910  1.000000  0.474558  0.669014  0.335793  \n",
      "VZ     0.596053 -0.226707 -0.619714  0.474558  1.000000  0.723242 -0.104169  \n",
      "WBA    0.817204  0.140560 -0.573013  0.669014  0.723242  1.000000  0.331788  \n",
      "WMT    0.509127  0.586821  0.271304  0.335793 -0.104169  0.331788  1.000000  \n",
      "\n",
      "[30 rows x 30 columns]\n",
      "--------------------------------------------------\n"
     ]
    }
   ],
   "source": [
    "import yfinance as yf\n",
    "import pandas as pd\n",
    "\n",
    "# Dow 30 sembolleri\n",
    "dow30_symbols = ['AAPL', 'MSFT', 'GOOGL', 'JPM', 'V', 'PG', 'JNJ', 'HD', 'DIS', 'UNH', 'KO', 'VZ', 'MCD', 'INTC', 'NKE', 'MRK', 'WMT', 'CRM', 'IBM', 'TRV', 'CSCO', 'AXP', 'CVX', 'BA', 'GS', 'CAT', 'DOW', 'AMGN', 'WBA', 'HON']\n",
    "\n",
    "# Yıl listesi\n",
    "years = range(2014, 2023)  # 2014'ten 2022'ye kadar\n",
    "\n",
    "# Korelasyon matrisleri saklamak için boş bir DataFrame oluştur\n",
    "correlation_matrices = {}\n",
    "\n",
    "for year in years:\n",
    "    # Belirtilen yılın başlangıç ve bitiş tarihleri\n",
    "    start_date = f'{year}-01-01'\n",
    "    end_date = f'{year}-12-31'\n",
    "    \n",
    "    # Hisse senedi fiyat verilerini al\n",
    "    data = yf.download(dow30_symbols, start=start_date, end=end_date)['Adj Close']\n",
    "    \n",
    "    # Korelasyon matrisini hesapla\n",
    "    correlation_matrix = data.corr()\n",
    "    \n",
    "    # Korelasyon matrisini sakla\n",
    "    correlation_matrices[year] = correlation_matrix\n",
    "\n",
    "# Korelasyon matrisleri verilerini görüntüle\n",
    "for year, matrix in correlation_matrices.items():\n",
    "    print(f\"Korelasyon Matrisi {year}:\\n{matrix}\\n{'-'*50}\")\n"
   ]
  },
  {
   "cell_type": "markdown",
   "metadata": {},
   "source": [
    "Strateji 9"
   ]
  },
  {
   "cell_type": "code",
   "execution_count": 47,
   "metadata": {},
   "outputs": [
    {
     "name": "stdout",
     "output_type": "stream",
     "text": [
      "[*********************100%***********************]  3 of 3 completed\n"
     ]
    },
    {
     "data": {
      "image/png": "[encoded data removed]",
      "text/plain": [
       "<Figure size 1000x600 with 2 Axes>"
      ]
     },
     "metadata": {},
     "output_type": "display_data"
    },
    {
     "name": "stdout",
     "output_type": "stream",
     "text": [
      "                                                Weights    Return   Std Dev\n",
      "0     [0.08475376135655535, 0.7281591660098817, 0.18...  0.528592  0.220566\n",
      "1     [0.5596844239388368, 0.4095280373984812, 0.030...  0.446106  0.217090\n",
      "2     [0.10299215563639831, 0.15862132602268278, 0.7...  0.479153  0.203182\n",
      "3     [0.3270671270727464, 0.33272826967269914, 0.34...  0.467173  0.204721\n",
      "4     [0.05968832707519672, 0.4346583415004874, 0.50...  0.507180  0.206662\n",
      "...                                                 ...       ...       ...\n",
      "9995  [0.8256490849246563, 0.039772853004631695, 0.1...  0.384029  0.232867\n",
      "9996  [0.21735353205019792, 0.2828485422819107, 0.49...  0.475975  0.202381\n",
      "9997  [0.01611606307785399, 0.12039692966997778, 0.8...  0.486228  0.206042\n",
      "9998  [0.42102301697496824, 0.09928073638940876, 0.4...  0.436706  0.206301\n",
      "9999  [0.2612103627792587, 0.44221979038293385, 0.29...  0.484033  0.206472\n",
      "\n",
      "[10000 rows x 3 columns]\n"
     ]
    }
   ],
   "source": [
    "import yfinance as yf\n",
    "import numpy as np\n",
    "import matplotlib.pyplot as plt\n",
    "\n",
    "# Define the stock symbols and selected stocks\n",
    "symbols = ['AAPL', 'MSFT', 'GOOGL', 'JPM', 'V', 'PG', 'JNJ', 'HD', 'DIS', 'UNH', 'KO', 'VZ', 'MCD', 'INTC', 'NKE', 'MRK', 'WMT', 'CRM', 'IBM', 'TRV', 'CSCO', 'AXP', 'CVX', 'BA', 'GS', 'CAT', 'DOW', 'AMGN', 'WBA', 'HON']\n",
    "selected_stocks = ['AAPL', 'MSFT', 'GOOGL']  # Update this list with your selected stocks\n",
    "\n",
    "# Download data for the selected stocks\n",
    "data = yf.download(selected_stocks, start='2021-01-01', end='2021-12-31')['Adj Close']\n",
    "returns = data.pct_change().dropna()\n",
    "\n",
    "# Generate portfolios and calculate returns and standard deviations\n",
    "portfolio_results = []\n",
    "num_portfolios = 10000\n",
    "for _ in range(num_portfolios):\n",
    "    weights = np.random.random(len(selected_stocks))\n",
    "    weights /= np.sum(weights)\n",
    "\n",
    "    portfolio_return = np.sum(returns.mean() * weights) * 252\n",
    "    portfolio_std_dev = np.sqrt(np.dot(weights.T, np.dot(returns.cov() * 252, weights)))\n",
    "\n",
    "    portfolio_results.append({\n",
    "        'Weights': weights,\n",
    "        'Return': portfolio_return,\n",
    "        'Std Dev': portfolio_std_dev\n",
    "    })\n",
    "\n",
    "# Create a DataFrame from portfolio results\n",
    "portfolio_df = pd.DataFrame(portfolio_results)\n",
    "\n",
    "# Plot the portfolio frontier\n",
    "plt.figure(figsize=(10, 6))\n",
    "plt.scatter(portfolio_df['Std Dev'], portfolio_df['Return'], c=portfolio_df['Return'] / portfolio_df['Std Dev'], marker='o')\n",
    "plt.title('Portfolio Frontier')\n",
    "plt.xlabel('Standard Deviation')\n",
    "plt.ylabel('Return')\n",
    "plt.colorbar(label='Sharpe Ratio')\n",
    "plt.show()\n",
    "\n",
    "# Display the portfolio results table\n",
    "print(portfolio_df)\n"
   ]
  },
  {
   "cell_type": "markdown",
   "metadata": {},
   "source": [
    "Strateji 10"
   ]
  },
  {
   "cell_type": "code",
   "execution_count": 45,
   "metadata": {},
   "outputs": [
    {
     "name": "stderr",
     "output_type": "stream",
     "text": [
      "DOW: Data doesn't exist for startDate = 1420088400, endDate = 1451538000\n",
      "DOW: Data doesn't exist for startDate = 1420088400, endDate = 1451538000\n",
      "DOW: Data doesn't exist for startDate = 1451624400, endDate = 1483160400\n",
      "DOW: Data doesn't exist for startDate = 1451624400, endDate = 1483160400\n",
      "DOW: Data doesn't exist for startDate = 1483246800, endDate = 1514696400\n",
      "DOW: Data doesn't exist for startDate = 1483246800, endDate = 1514696400\n",
      "DOW: Data doesn't exist for startDate = 1514782800, endDate = 1546232400\n",
      "DOW: Data doesn't exist for startDate = 1514782800, endDate = 1546232400\n"
     ]
    },
    {
     "name": "stdout",
     "output_type": "stream",
     "text": [
      "   Year  Initial Investment  Avg Annual Return (%)  Std Dev (%)  \\\n",
      "0  2015                1000               7.500699    18.353970   \n",
      "1  2016                1000              14.132526    14.615349   \n",
      "2  2017                1000              28.034141    22.737508   \n",
      "3  2018                1000               1.171572    15.033849   \n",
      "4  2019                1000              27.316914    17.240218   \n",
      "5  2020                1000               9.492779    22.895676   \n",
      "6  2021                1000              22.816694    21.092864   \n",
      "\n",
      "   Avg Max Drawdown (%)  Sharpe Ratio  \\\n",
      "0            -18.844157      6.487420   \n",
      "1            -15.062230     15.350088   \n",
      "2            -10.627973     19.572426   \n",
      "3            -22.444751      1.237083   \n",
      "4            -15.448775     25.152964   \n",
      "5            -37.381384      6.581731   \n",
      "6            -16.404824     17.171864   \n",
      "\n",
      "                                     Selected Stocks  \n",
      "0  GOOGL, WMT, CAT, UNH, INTC, WBA, AXP, MCD, CVX...  \n",
      "1  VZ, AXP, CAT, MCD, GS, WMT, UNH, IBM, KO, AMGN...  \n",
      "2  MSFT, CVX, DIS, MCD, JPM, KO, VZ, CRM, TRV, AA...  \n",
      "3  VZ, CRM, PG, GOOGL, INTC, MCD, KO, AAPL, NKE, ...  \n",
      "4  DOW, MCD, WBA, KO, UNH, DIS, INTC, VZ, PG, CVX...  \n",
      "5  WMT, BA, CRM, WBA, DIS, AMGN, PG, CVX, AAPL, T...  \n",
      "6  VZ, AAPL, MRK, BA, CAT, MSFT, CRM, IBM, INTC, ...  \n"
     ]
    },
    {
     "data": {
      "image/png": "[encoded data removed]",
      "text/plain": [
       "<Figure size 1000x600 with 2 Axes>"
      ]
     },
     "metadata": {},
     "output_type": "display_data"
    }
   ],
   "source": [
    "import yfinance as yf\n",
    "import numpy as np\n",
    "import pandas as pd\n",
    "import matplotlib.pyplot as plt\n",
    "\n",
    "symbols = ['AAPL', 'MSFT', 'GOOGL', 'JPM', 'V', 'PG', 'JNJ', 'HD', 'DIS', 'UNH', 'KO', 'VZ', 'MCD', 'INTC', 'NKE', 'MRK', 'WMT', 'CRM', 'IBM', 'TRV', 'CSCO', 'AXP', 'CVX', 'BA', 'GS', 'CAT', 'DOW', 'AMGN', 'WBA', 'HON']\n",
    "num_stocks = 5\n",
    "\n",
    "risk_free_rate = 0.0\n",
    "initial_investment = 1000\n",
    "\n",
    "years = [2015, 2016, 2017, 2018, 2019, 2020, 2021]\n",
    "portfolio_results = []\n",
    "\n",
    "for year in years:\n",
    "    annual_returns = []\n",
    "    max_drawdowns = []\n",
    "\n",
    "    for symbol in symbols:\n",
    "        stock = yf.Ticker(symbol)\n",
    "        history = stock.history(start=f'{year}-01-01', end=f'{year}-12-31')\n",
    "\n",
    "        if len(history) > 0:\n",
    "            prices = history['Close']\n",
    "            initial_price = prices.iloc[0]\n",
    "            final_price = prices.iloc[-1]\n",
    "            annual_return = ((final_price / initial_price) - 1) * 100\n",
    "            annual_returns.append(annual_return)\n",
    "\n",
    "            drawdowns = (prices / prices.cummax() - 1) * 100\n",
    "            max_drawdown = drawdowns.min()\n",
    "            max_drawdowns.append(max_drawdown)\n",
    "\n",
    "    avg_annual_return = np.mean(annual_returns)\n",
    "    std_dev_annual_return = np.std(annual_returns)\n",
    "    avg_max_drawdown = np.mean(max_drawdowns)\n",
    "    \n",
    "    excess_returns = np.array(annual_returns) - risk_free_rate / 252\n",
    "    sharpe_ratio = (np.mean(excess_returns) / np.std(excess_returns)) * np.sqrt(252)\n",
    "    \n",
    "    data = pd.DataFrame({symbol: yf.Ticker(symbol).history(start=f'{year}-01-01', end=f'{year}-12-31')['Close'] for symbol in symbols})\n",
    "    correlations = data.pct_change().corr()\n",
    "    \n",
    "    lowest_correlations = correlations.stack().sort_values(ascending=True).drop_duplicates()\n",
    "    selected_stocks = []\n",
    "    \n",
    "    for pair in lowest_correlations.index:\n",
    "        if pair[0] not in selected_stocks and pair[1] not in selected_stocks:\n",
    "            selected_stocks.append(pair[0])\n",
    "            selected_stocks.append(pair[1])\n",
    "            if len(selected_stocks) == num_stocks:\n",
    "                break\n",
    "    \n",
    "    portfolio_results.append({\n",
    "        'Year': year,\n",
    "        'Initial Investment': initial_investment,\n",
    "        'Avg Annual Return (%)': avg_annual_return,\n",
    "        'Std Dev (%)': std_dev_annual_return,\n",
    "        'Avg Max Drawdown (%)': avg_max_drawdown,\n",
    "        'Sharpe Ratio': sharpe_ratio,\n",
    "        'Selected Stocks': ', '.join(selected_stocks)\n",
    "    })\n",
    "\n",
    "portfolio_results_df = pd.DataFrame(portfolio_results)\n",
    "\n",
    "print(portfolio_results_df)\n",
    "\n",
    "plt.figure(figsize=(10, 6))\n",
    "plt.scatter(portfolio_results_df['Std Dev (%)'], portfolio_results_df['Avg Annual Return (%)'], c=portfolio_results_df['Sharpe Ratio'], cmap='viridis')\n",
    "plt.colorbar(label='Sharpe Ratio')\n",
    "plt.xlabel('Std Dev (%)')\n",
    "plt.ylabel('Avg Annual Return (%)')\n",
    "plt.title('Portfolio Frontier')\n",
    "plt.show()\n"
   ]
  }
 ],
 "metadata": {
  "kernelspec": {
   "display_name": "Python 3",
   "language": "python",
   "name": "python3"
  },
  "language_info": {
   "codemirror_mode": {
    "name": "ipython",
    "version": 3
   },
   "file_extension": ".py",
   "mimetype": "text/x-python",
   "name": "python",
   "nbconvert_exporter": "python",
   "pygments_lexer": "ipython3",
   "version": "3.8.5"
  },
  "orig_nbformat": 4
 },
 "nbformat": 4,
 "nbformat_minor": 2
}
